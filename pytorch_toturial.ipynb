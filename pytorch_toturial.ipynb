{
  "nbformat": 4,
  "nbformat_minor": 0,
  "metadata": {
    "colab": {
      "provenance": [],
      "gpuType": "T4",
      "authorship_tag": "ABX9TyPRt+HfOL2rZVDsAchftGAR",
      "include_colab_link": true
    },
    "kernelspec": {
      "name": "python3",
      "display_name": "Python 3"
    },
    "language_info": {
      "name": "python"
    },
    "accelerator": "GPU"
  },
  "cells": [
    {
      "cell_type": "markdown",
      "metadata": {
        "id": "view-in-github",
        "colab_type": "text"
      },
      "source": [
        "<a href=\"https://colab.research.google.com/github/nlscng/turbo-doodle/blob/main/pytorch_toturial.ipynb\" target=\"_parent\"><img src=\"https://colab.research.google.com/assets/colab-badge.svg\" alt=\"Open In Colab\"/></a>"
      ]
    },
    {
      "cell_type": "code",
      "execution_count": 1,
      "metadata": {
        "colab": {
          "base_uri": "https://localhost:8080/",
          "height": 35
        },
        "id": "idFw_FQ5nXCv",
        "outputId": "8ccc31e6-3b69-4685-c075-3890d99971ca"
      },
      "outputs": [
        {
          "output_type": "execute_result",
          "data": {
            "text/plain": [
              "'2.5.1+cu124'"
            ],
            "application/vnd.google.colaboratory.intrinsic+json": {
              "type": "string"
            }
          },
          "metadata": {},
          "execution_count": 1
        }
      ],
      "source": [
        "import torch\n",
        "import pandas as pd\n",
        "import numpy as np\n",
        "import matplotlib.pyplot as plt\n",
        "torch.__version__"
      ]
    },
    {
      "cell_type": "markdown",
      "source": [
        "### Introduction to tensors\n",
        "Creating tensors\n",
        "\n",
        "Pytorch tensors are created using torch.Tensor()"
      ],
      "metadata": {
        "id": "A2kJ3hcqeK-8"
      }
    },
    {
      "cell_type": "code",
      "source": [
        "scalar = torch.tensor(7)"
      ],
      "metadata": {
        "id": "wNOFdv6GclS_"
      },
      "execution_count": 2,
      "outputs": []
    },
    {
      "cell_type": "code",
      "source": [
        "scalar"
      ],
      "metadata": {
        "colab": {
          "base_uri": "https://localhost:8080/"
        },
        "id": "Io7fUgT1czHU",
        "outputId": "a6660a39-3385-411f-a11f-c626cd31525d"
      },
      "execution_count": 3,
      "outputs": [
        {
          "output_type": "execute_result",
          "data": {
            "text/plain": [
              "tensor(7)"
            ]
          },
          "metadata": {},
          "execution_count": 3
        }
      ]
    },
    {
      "cell_type": "code",
      "source": [
        "scalar.type()"
      ],
      "metadata": {
        "colab": {
          "base_uri": "https://localhost:8080/",
          "height": 35
        },
        "id": "H-Kfvre9c_ur",
        "outputId": "8769dd57-b8f8-4c78-bda8-d4741d2e3158"
      },
      "execution_count": 4,
      "outputs": [
        {
          "output_type": "execute_result",
          "data": {
            "text/plain": [
              "'torch.LongTensor'"
            ],
            "application/vnd.google.colaboratory.intrinsic+json": {
              "type": "string"
            }
          },
          "metadata": {},
          "execution_count": 4
        }
      ]
    },
    {
      "cell_type": "code",
      "source": [
        "scalar.ndim\n",
        "# scala has zero or no dimension"
      ],
      "metadata": {
        "colab": {
          "base_uri": "https://localhost:8080/"
        },
        "id": "pEzOBuw5dFyW",
        "outputId": "63a20ed1-7961-4962-99a8-0d0bdbf07779"
      },
      "execution_count": 5,
      "outputs": [
        {
          "output_type": "execute_result",
          "data": {
            "text/plain": [
              "0"
            ]
          },
          "metadata": {},
          "execution_count": 5
        }
      ]
    },
    {
      "cell_type": "code",
      "source": [
        "scalar.item()\n",
        "# only works with one-element tensors"
      ],
      "metadata": {
        "colab": {
          "base_uri": "https://localhost:8080/"
        },
        "id": "AmcHc_RydJ1_",
        "outputId": "37aac61c-ddef-4472-82cc-1604b928d2f6"
      },
      "execution_count": 6,
      "outputs": [
        {
          "output_type": "execute_result",
          "data": {
            "text/plain": [
              "7"
            ]
          },
          "metadata": {},
          "execution_count": 6
        }
      ]
    },
    {
      "cell_type": "code",
      "source": [
        "type(scalar.item())\n",
        "# returns a python type int"
      ],
      "metadata": {
        "colab": {
          "base_uri": "https://localhost:8080/"
        },
        "id": "RYUBWSY7dPn8",
        "outputId": "3b93bbea-95fc-4e57-ff88-3a7850f31e66"
      },
      "execution_count": 7,
      "outputs": [
        {
          "output_type": "execute_result",
          "data": {
            "text/plain": [
              "int"
            ]
          },
          "metadata": {},
          "execution_count": 7
        }
      ]
    },
    {
      "cell_type": "code",
      "source": [
        "vector = torch.tensor([7, 7])\n",
        "vector"
      ],
      "metadata": {
        "colab": {
          "base_uri": "https://localhost:8080/"
        },
        "id": "nxkcTRJDflwq",
        "outputId": "added4a8-6a74-424b-ea53-0b8f632274bd"
      },
      "execution_count": 8,
      "outputs": [
        {
          "output_type": "execute_result",
          "data": {
            "text/plain": [
              "tensor([7, 7])"
            ]
          },
          "metadata": {},
          "execution_count": 8
        }
      ]
    },
    {
      "cell_type": "code",
      "source": [
        "vector.ndim"
      ],
      "metadata": {
        "colab": {
          "base_uri": "https://localhost:8080/"
        },
        "id": "TQUPPHLQf2ai",
        "outputId": "75d32c8c-ba56-466b-9d72-22769cda127d"
      },
      "execution_count": 9,
      "outputs": [
        {
          "output_type": "execute_result",
          "data": {
            "text/plain": [
              "1"
            ]
          },
          "metadata": {},
          "execution_count": 9
        }
      ]
    },
    {
      "cell_type": "code",
      "source": [
        "vector.shape\n",
        "# prints with torch.size?"
      ],
      "metadata": {
        "colab": {
          "base_uri": "https://localhost:8080/"
        },
        "id": "hKBDXJZ5gEfS",
        "outputId": "dc708a34-75c0-44d7-9062-8f7fece2d0ea"
      },
      "execution_count": 10,
      "outputs": [
        {
          "output_type": "execute_result",
          "data": {
            "text/plain": [
              "torch.Size([2])"
            ]
          },
          "metadata": {},
          "execution_count": 10
        }
      ]
    },
    {
      "cell_type": "code",
      "source": [
        "# matrix\n",
        "matrix = torch.tensor([[7, 8], [9, 10]])"
      ],
      "metadata": {
        "id": "M9gDq1mqgNW6"
      },
      "execution_count": 11,
      "outputs": []
    },
    {
      "cell_type": "code",
      "source": [
        "matrix"
      ],
      "metadata": {
        "colab": {
          "base_uri": "https://localhost:8080/"
        },
        "id": "7FtzBBcIgWl6",
        "outputId": "a79f38b9-eb23-4272-8df9-ff7cec95a7c7"
      },
      "execution_count": 12,
      "outputs": [
        {
          "output_type": "execute_result",
          "data": {
            "text/plain": [
              "tensor([[ 7,  8],\n",
              "        [ 9, 10]])"
            ]
          },
          "metadata": {},
          "execution_count": 12
        }
      ]
    },
    {
      "cell_type": "code",
      "source": [
        "matrix.ndim"
      ],
      "metadata": {
        "colab": {
          "base_uri": "https://localhost:8080/"
        },
        "id": "DilXZeoOgcIA",
        "outputId": "d60d096d-955d-404b-a380-2a15799a0f58"
      },
      "execution_count": 13,
      "outputs": [
        {
          "output_type": "execute_result",
          "data": {
            "text/plain": [
              "2"
            ]
          },
          "metadata": {},
          "execution_count": 13
        }
      ]
    },
    {
      "cell_type": "code",
      "source": [
        "matrix.shape"
      ],
      "metadata": {
        "colab": {
          "base_uri": "https://localhost:8080/"
        },
        "id": "Zx6VMyFFgeND",
        "outputId": "de2e1d4f-7b1d-42a5-cf3f-e4afc1e4d30c"
      },
      "execution_count": 14,
      "outputs": [
        {
          "output_type": "execute_result",
          "data": {
            "text/plain": [
              "torch.Size([2, 2])"
            ]
          },
          "metadata": {},
          "execution_count": 14
        }
      ]
    },
    {
      "cell_type": "markdown",
      "source": [
        "Creating tensors"
      ],
      "metadata": {
        "id": "tHpkAcSLgxcS"
      }
    },
    {
      "cell_type": "code",
      "source": [
        "# tensors\n",
        "tensor = torch.tensor([[[1, 2, 3], [3, 6, 9], [2, 4, 5]]])\n",
        "tensor"
      ],
      "metadata": {
        "colab": {
          "base_uri": "https://localhost:8080/"
        },
        "id": "Y-ucaUdbgzwi",
        "outputId": "b9315e37-0526-4a76-b52e-cadca38bc812"
      },
      "execution_count": 15,
      "outputs": [
        {
          "output_type": "execute_result",
          "data": {
            "text/plain": [
              "tensor([[[1, 2, 3],\n",
              "         [3, 6, 9],\n",
              "         [2, 4, 5]]])"
            ]
          },
          "metadata": {},
          "execution_count": 15
        }
      ]
    },
    {
      "cell_type": "code",
      "source": [
        "tensor.ndim"
      ],
      "metadata": {
        "colab": {
          "base_uri": "https://localhost:8080/"
        },
        "id": "Wd6x4XQ0hBLP",
        "outputId": "c2f692a0-69e0-449a-bfe4-649bd26db07a"
      },
      "execution_count": 16,
      "outputs": [
        {
          "output_type": "execute_result",
          "data": {
            "text/plain": [
              "3"
            ]
          },
          "metadata": {},
          "execution_count": 16
        }
      ]
    },
    {
      "cell_type": "code",
      "source": [
        "tensor.shape\n",
        "# the first dim is 1, not 3"
      ],
      "metadata": {
        "colab": {
          "base_uri": "https://localhost:8080/"
        },
        "id": "P2PpyocxhDPM",
        "outputId": "86c1246e-9079-4c61-b348-5629aa711259"
      },
      "execution_count": 17,
      "outputs": [
        {
          "output_type": "execute_result",
          "data": {
            "text/plain": [
              "torch.Size([1, 3, 3])"
            ]
          },
          "metadata": {},
          "execution_count": 17
        }
      ]
    },
    {
      "cell_type": "code",
      "source": [
        "tensor[0]"
      ],
      "metadata": {
        "colab": {
          "base_uri": "https://localhost:8080/"
        },
        "id": "-pLBvExhhS_O",
        "outputId": "2e30d5f8-ac11-4176-838d-5cff9d51c7ea"
      },
      "execution_count": 18,
      "outputs": [
        {
          "output_type": "execute_result",
          "data": {
            "text/plain": [
              "tensor([[1, 2, 3],\n",
              "        [3, 6, 9],\n",
              "        [2, 4, 5]])"
            ]
          },
          "metadata": {},
          "execution_count": 18
        }
      ]
    },
    {
      "cell_type": "code",
      "source": [
        "tensor.device"
      ],
      "metadata": {
        "colab": {
          "base_uri": "https://localhost:8080/"
        },
        "id": "a9FQ9qeDh6DC",
        "outputId": "b809821e-b7c5-4e64-d3c8-1ca201f00876"
      },
      "execution_count": 19,
      "outputs": [
        {
          "output_type": "execute_result",
          "data": {
            "text/plain": [
              "device(type='cpu')"
            ]
          },
          "metadata": {},
          "execution_count": 19
        }
      ]
    },
    {
      "cell_type": "code",
      "source": [
        "tensor.dtype"
      ],
      "metadata": {
        "colab": {
          "base_uri": "https://localhost:8080/"
        },
        "id": "DXqlu6rQh9Fr",
        "outputId": "00d7e405-48ff-4c91-fdf1-96c50603a576"
      },
      "execution_count": 20,
      "outputs": [
        {
          "output_type": "execute_result",
          "data": {
            "text/plain": [
              "torch.int64"
            ]
          },
          "metadata": {},
          "execution_count": 20
        }
      ]
    },
    {
      "cell_type": "markdown",
      "source": [
        "### Random tensors\n",
        "Why random tensors?\n",
        "Random tensors are important because many NN start with random numbers for initial states"
      ],
      "metadata": {
        "id": "KIqHUnYFBUE2"
      }
    },
    {
      "cell_type": "markdown",
      "source": [
        "# Create a random tensor of size/shape (3, 4)"
      ],
      "metadata": {
        "id": "4tNU_gROBWuQ"
      }
    },
    {
      "cell_type": "code",
      "source": [
        "random_tensor = torch.rand(3, 4)\n",
        "random_tensor"
      ],
      "metadata": {
        "colab": {
          "base_uri": "https://localhost:8080/"
        },
        "id": "xnzL0BEaBync",
        "outputId": "19c4e709-c079-4ec3-8ea6-9235b5abdf08"
      },
      "execution_count": 21,
      "outputs": [
        {
          "output_type": "execute_result",
          "data": {
            "text/plain": [
              "tensor([[0.6025, 0.4036, 0.4148, 0.2168],\n",
              "        [0.8498, 0.6637, 0.2659, 0.7574],\n",
              "        [0.1057, 0.9012, 0.3978, 0.1597]])"
            ]
          },
          "metadata": {},
          "execution_count": 21
        }
      ]
    },
    {
      "cell_type": "code",
      "source": [
        "random_tensor.ndim"
      ],
      "metadata": {
        "colab": {
          "base_uri": "https://localhost:8080/"
        },
        "id": "dYZ2qPSuCpoz",
        "outputId": "b7eeb7b6-f07e-4f48-a3e2-cd5652618cf5"
      },
      "execution_count": 22,
      "outputs": [
        {
          "output_type": "execute_result",
          "data": {
            "text/plain": [
              "2"
            ]
          },
          "metadata": {},
          "execution_count": 22
        }
      ]
    },
    {
      "cell_type": "code",
      "source": [
        "random_tensor = torch.rand(1, 10, 10)\n",
        "random_tensor"
      ],
      "metadata": {
        "colab": {
          "base_uri": "https://localhost:8080/"
        },
        "id": "mjz2XO5bCtTz",
        "outputId": "24c4909b-16b5-468b-f59f-8341ed211aec"
      },
      "execution_count": 23,
      "outputs": [
        {
          "output_type": "execute_result",
          "data": {
            "text/plain": [
              "tensor([[[0.2644, 0.9544, 0.2314, 0.3845, 0.9544, 0.9024, 0.1730, 0.7996,\n",
              "          0.5636, 0.1078],\n",
              "         [0.4367, 0.4729, 0.7988, 0.7361, 0.2779, 0.7409, 0.3824, 0.2993,\n",
              "          0.3936, 0.7895],\n",
              "         [0.0859, 0.2163, 0.0787, 0.2684, 0.4933, 0.3207, 0.0528, 0.3202,\n",
              "          0.6171, 0.9359],\n",
              "         [0.3593, 0.8357, 0.5697, 0.1849, 0.3420, 0.1094, 0.2178, 0.2896,\n",
              "          0.8198, 0.4816],\n",
              "         [0.3832, 0.2894, 0.8199, 0.4171, 0.3385, 0.6604, 0.6915, 0.1124,\n",
              "          0.3518, 0.9004],\n",
              "         [0.8406, 0.5099, 0.3979, 0.8999, 0.5300, 0.6758, 0.5216, 0.6055,\n",
              "          0.3488, 0.5166],\n",
              "         [0.4093, 0.3464, 0.1515, 0.9151, 0.2328, 0.6529, 0.5899, 0.3368,\n",
              "          0.3767, 0.7156],\n",
              "         [0.3806, 0.5044, 0.3168, 0.9104, 0.9764, 0.3047, 0.7565, 0.3119,\n",
              "          0.7468, 0.8757],\n",
              "         [0.9325, 0.0118, 0.3838, 0.4208, 0.1567, 0.1496, 0.8601, 0.9905,\n",
              "          0.0242, 0.3109],\n",
              "         [0.3172, 0.9729, 0.9291, 0.8574, 0.5498, 0.4814, 0.2344, 0.2029,\n",
              "          0.5906, 0.7143]]])"
            ]
          },
          "metadata": {},
          "execution_count": 23
        }
      ]
    },
    {
      "cell_type": "code",
      "source": [
        "random_tensor.dtype"
      ],
      "metadata": {
        "colab": {
          "base_uri": "https://localhost:8080/"
        },
        "id": "ejrfyV-sDCKH",
        "outputId": "f2f774f1-247a-4b3b-cbf5-077c84543f13"
      },
      "execution_count": 24,
      "outputs": [
        {
          "output_type": "execute_result",
          "data": {
            "text/plain": [
              "torch.float32"
            ]
          },
          "metadata": {},
          "execution_count": 24
        }
      ]
    },
    {
      "cell_type": "markdown",
      "source": [
        "# Creating tensors of zeros and ones"
      ],
      "metadata": {
        "id": "AsZ0ZPPVEYOp"
      }
    },
    {
      "cell_type": "code",
      "source": [
        "zeros = torch.zeros(size=(3, 4))\n",
        "zeros"
      ],
      "metadata": {
        "colab": {
          "base_uri": "https://localhost:8080/"
        },
        "id": "5QRi1a3oEb8q",
        "outputId": "1691221d-f3a9-4a64-a021-e04738544967"
      },
      "execution_count": 25,
      "outputs": [
        {
          "output_type": "execute_result",
          "data": {
            "text/plain": [
              "tensor([[0., 0., 0., 0.],\n",
              "        [0., 0., 0., 0.],\n",
              "        [0., 0., 0., 0.]])"
            ]
          },
          "metadata": {},
          "execution_count": 25
        }
      ]
    },
    {
      "cell_type": "code",
      "source": [
        "ones = torch.ones(size=(3, 4))\n",
        "ones"
      ],
      "metadata": {
        "colab": {
          "base_uri": "https://localhost:8080/"
        },
        "id": "L6Hz9JqtEfkw",
        "outputId": "e90980a8-4b65-4c5e-e8a4-d59990645082"
      },
      "execution_count": 26,
      "outputs": [
        {
          "output_type": "execute_result",
          "data": {
            "text/plain": [
              "tensor([[1., 1., 1., 1.],\n",
              "        [1., 1., 1., 1.],\n",
              "        [1., 1., 1., 1.]])"
            ]
          },
          "metadata": {},
          "execution_count": 26
        }
      ]
    },
    {
      "cell_type": "markdown",
      "source": [
        "# Creating tensors with arange and like\n",
        "With three args, start (inclusive), end (exclusive), and step\n",
        "\n",
        "The _like method create tensors with same shapes"
      ],
      "metadata": {
        "id": "VrISz1BlE5LY"
      }
    },
    {
      "cell_type": "code",
      "source": [
        "torch.arange(1, 10)"
      ],
      "metadata": {
        "colab": {
          "base_uri": "https://localhost:8080/"
        },
        "id": "6yr5KNXrE_jR",
        "outputId": "851b5ec0-82c8-40b9-b0a8-08bd99790f70"
      },
      "execution_count": 27,
      "outputs": [
        {
          "output_type": "execute_result",
          "data": {
            "text/plain": [
              "tensor([1, 2, 3, 4, 5, 6, 7, 8, 9])"
            ]
          },
          "metadata": {},
          "execution_count": 27
        }
      ]
    },
    {
      "cell_type": "code",
      "source": [
        "torch.arange(start=0, end=1000, step=77)"
      ],
      "metadata": {
        "colab": {
          "base_uri": "https://localhost:8080/"
        },
        "id": "RbBDmgsnFDMo",
        "outputId": "59102420-10dc-4b0c-95ba-0d2d006f56c9"
      },
      "execution_count": 28,
      "outputs": [
        {
          "output_type": "execute_result",
          "data": {
            "text/plain": [
              "tensor([  0,  77, 154, 231, 308, 385, 462, 539, 616, 693, 770, 847, 924])"
            ]
          },
          "metadata": {},
          "execution_count": 28
        }
      ]
    },
    {
      "cell_type": "code",
      "source": [
        "torch.arange(1, 11, 2)"
      ],
      "metadata": {
        "colab": {
          "base_uri": "https://localhost:8080/"
        },
        "id": "a8OLHkcgFPLk",
        "outputId": "c8914281-da99-4f81-d5d8-467b3aaa4fa9"
      },
      "execution_count": 29,
      "outputs": [
        {
          "output_type": "execute_result",
          "data": {
            "text/plain": [
              "tensor([1, 3, 5, 7, 9])"
            ]
          },
          "metadata": {},
          "execution_count": 29
        }
      ]
    },
    {
      "cell_type": "code",
      "source": [
        "ten_zeros = torch.zeros_like(input=torch.arange(0, 10))\n",
        "ten_zeros"
      ],
      "metadata": {
        "colab": {
          "base_uri": "https://localhost:8080/"
        },
        "id": "BI7FwsvlGIGb",
        "outputId": "2ab72309-d833-445d-b70f-19f17f4df797"
      },
      "execution_count": 30,
      "outputs": [
        {
          "output_type": "execute_result",
          "data": {
            "text/plain": [
              "tensor([0, 0, 0, 0, 0, 0, 0, 0, 0, 0])"
            ]
          },
          "metadata": {},
          "execution_count": 30
        }
      ]
    },
    {
      "cell_type": "code",
      "source": [],
      "metadata": {
        "id": "YuwiGeHN8k1c"
      },
      "execution_count": 30,
      "outputs": []
    },
    {
      "cell_type": "markdown",
      "source": [
        "### Tensor datatypes\n",
        "** Notes: ** Tensor datatype is one of the 3 big errors you'll run into with PyTorch and Deep Learning:\n",
        "1. Tensor not the right datatype\n",
        "2. Tensor not the right shape\n",
        "3. Tensor not on the right device"
      ],
      "metadata": {
        "id": "ophSgx7WxExf"
      }
    },
    {
      "cell_type": "code",
      "source": [
        "float_32_tensor = torch.tensor([3.0, 6.0, 9.0],\n",
        "                               dtype=None, # data types, float32 or float16, etc\n",
        "                               device='cuda', # what device is the tensor on, cpu or cuda\n",
        "                               requires_grad=False # should track gradients\n",
        "                               )\n",
        "float_32_tensor"
      ],
      "metadata": {
        "colab": {
          "base_uri": "https://localhost:8080/"
        },
        "id": "lZpqNCoPxMzJ",
        "outputId": "fc85f9c2-41b8-4980-b895-986cb0a15abd"
      },
      "execution_count": 31,
      "outputs": [
        {
          "output_type": "execute_result",
          "data": {
            "text/plain": [
              "tensor([3., 6., 9.], device='cuda:0')"
            ]
          },
          "metadata": {},
          "execution_count": 31
        }
      ]
    },
    {
      "cell_type": "code",
      "source": [
        "# dtype of a tensor is default to float32, even if we specified it to None\n",
        "float_32_tensor.dtype"
      ],
      "metadata": {
        "colab": {
          "base_uri": "https://localhost:8080/"
        },
        "id": "Lr3_ukNIxmwE",
        "outputId": "0f7a9f8e-5e32-4af6-ae29-d477cfb5fda1"
      },
      "execution_count": 32,
      "outputs": [
        {
          "output_type": "execute_result",
          "data": {
            "text/plain": [
              "torch.float32"
            ]
          },
          "metadata": {},
          "execution_count": 32
        }
      ]
    },
    {
      "cell_type": "code",
      "source": [
        "float_16_tensor = float_32_tensor.type(torch.half)\n",
        "# half is same as float16, and float_16 apparently takes other attributes like device from float_32\n",
        "float_16_tensor, float_16_tensor.device, float_16_tensor.dtype"
      ],
      "metadata": {
        "colab": {
          "base_uri": "https://localhost:8080/"
        },
        "id": "pldudXIK1qQi",
        "outputId": "d32427c3-5288-4b28-b95c-6b055966da88"
      },
      "execution_count": 33,
      "outputs": [
        {
          "output_type": "execute_result",
          "data": {
            "text/plain": [
              "(tensor([3., 6., 9.], device='cuda:0', dtype=torch.float16),\n",
              " device(type='cuda', index=0),\n",
              " torch.float16)"
            ]
          },
          "metadata": {},
          "execution_count": 33
        }
      ]
    },
    {
      "cell_type": "code",
      "source": [
        "float_16_tensor * float_32_tensor"
      ],
      "metadata": {
        "colab": {
          "base_uri": "https://localhost:8080/"
        },
        "id": "Q_8K7E_o2Rl3",
        "outputId": "57b69ed7-20c7-4968-99cb-9d2a8a87fa7c"
      },
      "execution_count": 34,
      "outputs": [
        {
          "output_type": "execute_result",
          "data": {
            "text/plain": [
              "tensor([ 9., 36., 81.], device='cuda:0')"
            ]
          },
          "metadata": {},
          "execution_count": 34
        }
      ]
    },
    {
      "cell_type": "markdown",
      "source": [
        "### Getting information from tensors\n",
        "* `shape` what shape is the tensor (some operations require specific shape rule)\n",
        "* `dtype` what data type are stored in the tensor\n",
        "* `device` what device the tensor is on (usually GPU or CPU)\n"
      ],
      "metadata": {
        "id": "wkVHDe_A8JFp"
      }
    },
    {
      "cell_type": "code",
      "source": [
        "# create a tensor\n",
        "some_tensor = torch.rand(3, 4)\n",
        "\n",
        "# find some details\n",
        "print(some_tensor)\n",
        "print(f\"Datatype of tensor: {some_tensor.dtype}\")\n",
        "print(f\"Shape of tensor: {some_tensor.shape}\")\n",
        "print(f\"Device tensor is on: {some_tensor.device}\")"
      ],
      "metadata": {
        "id": "L1fqW-nb94V-",
        "outputId": "4ab6da7e-530f-49d5-bfa2-348edc1ea0e5",
        "colab": {
          "base_uri": "https://localhost:8080/"
        }
      },
      "execution_count": 35,
      "outputs": [
        {
          "output_type": "stream",
          "name": "stdout",
          "text": [
            "tensor([[0.9444, 0.1662, 0.2845, 0.9194],\n",
            "        [0.8003, 0.2277, 0.8955, 0.6723],\n",
            "        [0.9595, 0.9595, 0.3638, 0.8338]])\n",
            "Datatype of tensor: torch.float32\n",
            "Shape of tensor: torch.Size([3, 4])\n",
            "Device tensor is on: cpu\n"
          ]
        }
      ]
    },
    {
      "cell_type": "markdown",
      "source": [
        "### Manipulating tensors (tensor operations)\n",
        "* Addition\n",
        "* Substraction\n",
        "* Multiplication\n",
        "* Division\n",
        "* Matrix multiplication"
      ],
      "metadata": {
        "id": "pOzw5x_--D4C"
      }
    },
    {
      "cell_type": "code",
      "source": [
        "# create tensor and add numbers to elements\n",
        "tensor = torch.tensor([1,2,3])\n",
        "tensor"
      ],
      "metadata": {
        "id": "DLghE9ic-PP7",
        "outputId": "00760979-bcc6-4705-9468-a48877c0f120",
        "colab": {
          "base_uri": "https://localhost:8080/"
        }
      },
      "execution_count": 37,
      "outputs": [
        {
          "output_type": "execute_result",
          "data": {
            "text/plain": [
              "tensor([1, 2, 3])"
            ]
          },
          "metadata": {},
          "execution_count": 37
        }
      ]
    },
    {
      "cell_type": "code",
      "source": [
        "tensor + 10"
      ],
      "metadata": {
        "id": "BBZ0eHhw-XRA",
        "outputId": "e4f29988-99f3-457c-fd41-96840b9f5d31",
        "colab": {
          "base_uri": "https://localhost:8080/"
        }
      },
      "execution_count": 38,
      "outputs": [
        {
          "output_type": "execute_result",
          "data": {
            "text/plain": [
              "tensor([11, 12, 13])"
            ]
          },
          "metadata": {},
          "execution_count": 38
        }
      ]
    },
    {
      "cell_type": "code",
      "source": [
        "# multiply elements\n",
        "tensor * 10"
      ],
      "metadata": {
        "id": "Ud_U5fZ5-Ypt",
        "outputId": "445984e9-351e-47b9-9e7d-7bc43a0369b6",
        "colab": {
          "base_uri": "https://localhost:8080/"
        }
      },
      "execution_count": 39,
      "outputs": [
        {
          "output_type": "execute_result",
          "data": {
            "text/plain": [
              "tensor([10, 20, 30])"
            ]
          },
          "metadata": {},
          "execution_count": 39
        }
      ]
    },
    {
      "cell_type": "code",
      "source": [
        "# tensor doesn't change unless reassigned\n",
        "tensor"
      ],
      "metadata": {
        "id": "e60lW1MH-ekn",
        "outputId": "ed3e57cf-cc4c-4308-c618-d47f1aa51146",
        "colab": {
          "base_uri": "https://localhost:8080/"
        }
      },
      "execution_count": 40,
      "outputs": [
        {
          "output_type": "execute_result",
          "data": {
            "text/plain": [
              "tensor([1, 2, 3])"
            ]
          },
          "metadata": {},
          "execution_count": 40
        }
      ]
    },
    {
      "cell_type": "markdown",
      "source": [
        "### Matrix multiplication (is all you need)\n",
        "The most common operation in neural net and deep learning is `matrix multiplication`, aka dot product, aka matmul in PyTorch.\n",
        "\n",
        "The two rules for mat mul is:\n",
        "1) The **inner dimensions** must match\n",
        "2) The resulting matrix has the **outer dimensions**"
      ],
      "metadata": {
        "id": "Ud71kaP5-k8m"
      }
    },
    {
      "cell_type": "code",
      "source": [
        "\n"
      ],
      "metadata": {
        "id": "RyZ7CQ5V_LK_"
      },
      "execution_count": null,
      "outputs": []
    }
  ]
}