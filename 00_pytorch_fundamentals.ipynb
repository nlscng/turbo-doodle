{
  "nbformat": 4,
  "nbformat_minor": 0,
  "metadata": {
    "colab": {
      "provenance": [],
      "gpuType": "T4",
      "authorship_tag": "ABX9TyPNQhCENdK0apX78wjC/brQ",
      "include_colab_link": true
    },
    "kernelspec": {
      "name": "python3",
      "display_name": "Python 3"
    },
    "language_info": {
      "name": "python"
    },
    "accelerator": "GPU"
  },
  "cells": [
    {
      "cell_type": "markdown",
      "metadata": {
        "id": "view-in-github",
        "colab_type": "text"
      },
      "source": [
        "<a href=\"https://colab.research.google.com/github/nlscng/turbo-doodle/blob/main/00_pytorch_fundamentals.ipynb\" target=\"_parent\"><img src=\"https://colab.research.google.com/assets/colab-badge.svg\" alt=\"Open In Colab\"/></a>"
      ]
    },
    {
      "cell_type": "code",
      "execution_count": 2,
      "metadata": {
        "colab": {
          "base_uri": "https://localhost:8080/",
          "height": 35
        },
        "id": "idFw_FQ5nXCv",
        "outputId": "8273cafe-d71f-4ae8-c7c0-ffc2f26cc8f4"
      },
      "outputs": [
        {
          "output_type": "execute_result",
          "data": {
            "text/plain": [
              "'2.5.1+cu124'"
            ],
            "application/vnd.google.colaboratory.intrinsic+json": {
              "type": "string"
            }
          },
          "metadata": {},
          "execution_count": 2
        }
      ],
      "source": [
        "import torch\n",
        "import pandas as pd\n",
        "import numpy as np\n",
        "import matplotlib.pyplot as plt\n",
        "torch.__version__"
      ]
    },
    {
      "cell_type": "markdown",
      "source": [
        "### Introduction to tensors\n",
        "Creating tensors\n",
        "\n",
        "Pytorch tensors are created using torch.Tensor()"
      ],
      "metadata": {
        "id": "A2kJ3hcqeK-8"
      }
    },
    {
      "cell_type": "code",
      "source": [
        "scalar = torch.tensor(7)"
      ],
      "metadata": {
        "id": "wNOFdv6GclS_"
      },
      "execution_count": 3,
      "outputs": []
    },
    {
      "cell_type": "code",
      "source": [
        "scalar"
      ],
      "metadata": {
        "colab": {
          "base_uri": "https://localhost:8080/"
        },
        "id": "Io7fUgT1czHU",
        "outputId": "2f168d32-752e-483e-8fe1-afcfb89b5bfa"
      },
      "execution_count": 4,
      "outputs": [
        {
          "output_type": "execute_result",
          "data": {
            "text/plain": [
              "tensor(7)"
            ]
          },
          "metadata": {},
          "execution_count": 4
        }
      ]
    },
    {
      "cell_type": "code",
      "source": [
        "scalar.type()"
      ],
      "metadata": {
        "colab": {
          "base_uri": "https://localhost:8080/",
          "height": 35
        },
        "id": "H-Kfvre9c_ur",
        "outputId": "1e5f45ac-d027-46fc-f17e-d79acc4623f9"
      },
      "execution_count": 5,
      "outputs": [
        {
          "output_type": "execute_result",
          "data": {
            "text/plain": [
              "'torch.LongTensor'"
            ],
            "application/vnd.google.colaboratory.intrinsic+json": {
              "type": "string"
            }
          },
          "metadata": {},
          "execution_count": 5
        }
      ]
    },
    {
      "cell_type": "code",
      "source": [
        "scalar.ndim\n",
        "# scala has zero or no dimension"
      ],
      "metadata": {
        "colab": {
          "base_uri": "https://localhost:8080/"
        },
        "id": "pEzOBuw5dFyW",
        "outputId": "058c9bfa-fed0-492e-b735-248921c7da66"
      },
      "execution_count": 6,
      "outputs": [
        {
          "output_type": "execute_result",
          "data": {
            "text/plain": [
              "0"
            ]
          },
          "metadata": {},
          "execution_count": 6
        }
      ]
    },
    {
      "cell_type": "code",
      "source": [
        "scalar.item()\n",
        "# only works with one-element tensors"
      ],
      "metadata": {
        "colab": {
          "base_uri": "https://localhost:8080/"
        },
        "id": "AmcHc_RydJ1_",
        "outputId": "1bea9981-07fa-4b48-b8e5-af37b79151f2"
      },
      "execution_count": 7,
      "outputs": [
        {
          "output_type": "execute_result",
          "data": {
            "text/plain": [
              "7"
            ]
          },
          "metadata": {},
          "execution_count": 7
        }
      ]
    },
    {
      "cell_type": "code",
      "source": [
        "type(scalar.item())\n",
        "# returns a python type int"
      ],
      "metadata": {
        "colab": {
          "base_uri": "https://localhost:8080/"
        },
        "id": "RYUBWSY7dPn8",
        "outputId": "357a6bbb-c1e0-439e-ff20-4ebe199c9da9"
      },
      "execution_count": 8,
      "outputs": [
        {
          "output_type": "execute_result",
          "data": {
            "text/plain": [
              "int"
            ]
          },
          "metadata": {},
          "execution_count": 8
        }
      ]
    },
    {
      "cell_type": "code",
      "source": [
        "vector = torch.tensor([7, 7])\n",
        "vector"
      ],
      "metadata": {
        "colab": {
          "base_uri": "https://localhost:8080/"
        },
        "id": "nxkcTRJDflwq",
        "outputId": "a041b9e6-19fa-403a-f1a5-cfc74a9b56d8"
      },
      "execution_count": 9,
      "outputs": [
        {
          "output_type": "execute_result",
          "data": {
            "text/plain": [
              "tensor([7, 7])"
            ]
          },
          "metadata": {},
          "execution_count": 9
        }
      ]
    },
    {
      "cell_type": "code",
      "source": [
        "vector.ndim"
      ],
      "metadata": {
        "colab": {
          "base_uri": "https://localhost:8080/"
        },
        "id": "TQUPPHLQf2ai",
        "outputId": "3c1b83a0-9860-4a89-fd91-903b0b09e1b7"
      },
      "execution_count": 10,
      "outputs": [
        {
          "output_type": "execute_result",
          "data": {
            "text/plain": [
              "1"
            ]
          },
          "metadata": {},
          "execution_count": 10
        }
      ]
    },
    {
      "cell_type": "code",
      "source": [
        "vector.shape\n",
        "# prints with torch.size?"
      ],
      "metadata": {
        "colab": {
          "base_uri": "https://localhost:8080/"
        },
        "id": "hKBDXJZ5gEfS",
        "outputId": "8fabb098-196f-42a5-9900-e7884a6b1933"
      },
      "execution_count": 11,
      "outputs": [
        {
          "output_type": "execute_result",
          "data": {
            "text/plain": [
              "torch.Size([2])"
            ]
          },
          "metadata": {},
          "execution_count": 11
        }
      ]
    },
    {
      "cell_type": "code",
      "source": [
        "# matrix\n",
        "matrix = torch.tensor([[7, 8], [9, 10]])"
      ],
      "metadata": {
        "id": "M9gDq1mqgNW6"
      },
      "execution_count": 12,
      "outputs": []
    },
    {
      "cell_type": "code",
      "source": [
        "matrix"
      ],
      "metadata": {
        "colab": {
          "base_uri": "https://localhost:8080/"
        },
        "id": "7FtzBBcIgWl6",
        "outputId": "9763532a-a553-441e-ca8d-90add1b68871"
      },
      "execution_count": 13,
      "outputs": [
        {
          "output_type": "execute_result",
          "data": {
            "text/plain": [
              "tensor([[ 7,  8],\n",
              "        [ 9, 10]])"
            ]
          },
          "metadata": {},
          "execution_count": 13
        }
      ]
    },
    {
      "cell_type": "code",
      "source": [
        "matrix.ndim"
      ],
      "metadata": {
        "colab": {
          "base_uri": "https://localhost:8080/"
        },
        "id": "DilXZeoOgcIA",
        "outputId": "4f512014-c38e-4437-e7bc-c433491281b7"
      },
      "execution_count": 14,
      "outputs": [
        {
          "output_type": "execute_result",
          "data": {
            "text/plain": [
              "2"
            ]
          },
          "metadata": {},
          "execution_count": 14
        }
      ]
    },
    {
      "cell_type": "code",
      "source": [
        "matrix.shape"
      ],
      "metadata": {
        "colab": {
          "base_uri": "https://localhost:8080/"
        },
        "id": "Zx6VMyFFgeND",
        "outputId": "c4116dd4-66f4-4774-e745-efec4ccaacef"
      },
      "execution_count": 15,
      "outputs": [
        {
          "output_type": "execute_result",
          "data": {
            "text/plain": [
              "torch.Size([2, 2])"
            ]
          },
          "metadata": {},
          "execution_count": 15
        }
      ]
    },
    {
      "cell_type": "markdown",
      "source": [
        "Creating tensors"
      ],
      "metadata": {
        "id": "tHpkAcSLgxcS"
      }
    },
    {
      "cell_type": "code",
      "source": [
        "# tensors\n",
        "tensor = torch.tensor([[[1, 2, 3], [3, 6, 9], [2, 4, 5]]])\n",
        "tensor"
      ],
      "metadata": {
        "colab": {
          "base_uri": "https://localhost:8080/"
        },
        "id": "Y-ucaUdbgzwi",
        "outputId": "42d1c68c-d35b-49a3-fbdb-e6b19635ca0f"
      },
      "execution_count": 16,
      "outputs": [
        {
          "output_type": "execute_result",
          "data": {
            "text/plain": [
              "tensor([[[1, 2, 3],\n",
              "         [3, 6, 9],\n",
              "         [2, 4, 5]]])"
            ]
          },
          "metadata": {},
          "execution_count": 16
        }
      ]
    },
    {
      "cell_type": "code",
      "source": [
        "tensor.ndim"
      ],
      "metadata": {
        "colab": {
          "base_uri": "https://localhost:8080/"
        },
        "id": "Wd6x4XQ0hBLP",
        "outputId": "3a539f0e-9cae-43aa-cd32-b02ba95a7b48"
      },
      "execution_count": 17,
      "outputs": [
        {
          "output_type": "execute_result",
          "data": {
            "text/plain": [
              "3"
            ]
          },
          "metadata": {},
          "execution_count": 17
        }
      ]
    },
    {
      "cell_type": "code",
      "source": [
        "tensor.shape\n",
        "# the first dim is 1, not 3"
      ],
      "metadata": {
        "colab": {
          "base_uri": "https://localhost:8080/"
        },
        "id": "P2PpyocxhDPM",
        "outputId": "d763f3c0-3374-4f95-d487-a7d1d533388e"
      },
      "execution_count": 18,
      "outputs": [
        {
          "output_type": "execute_result",
          "data": {
            "text/plain": [
              "torch.Size([1, 3, 3])"
            ]
          },
          "metadata": {},
          "execution_count": 18
        }
      ]
    },
    {
      "cell_type": "code",
      "source": [
        "tensor[0]"
      ],
      "metadata": {
        "colab": {
          "base_uri": "https://localhost:8080/"
        },
        "id": "-pLBvExhhS_O",
        "outputId": "861092b7-8fc8-4388-f7e4-f6d090bc7b35"
      },
      "execution_count": 19,
      "outputs": [
        {
          "output_type": "execute_result",
          "data": {
            "text/plain": [
              "tensor([[1, 2, 3],\n",
              "        [3, 6, 9],\n",
              "        [2, 4, 5]])"
            ]
          },
          "metadata": {},
          "execution_count": 19
        }
      ]
    },
    {
      "cell_type": "code",
      "source": [
        "tensor.device"
      ],
      "metadata": {
        "colab": {
          "base_uri": "https://localhost:8080/"
        },
        "id": "a9FQ9qeDh6DC",
        "outputId": "8707c0b7-0b89-4e95-db37-d9c83744e167"
      },
      "execution_count": 20,
      "outputs": [
        {
          "output_type": "execute_result",
          "data": {
            "text/plain": [
              "device(type='cpu')"
            ]
          },
          "metadata": {},
          "execution_count": 20
        }
      ]
    },
    {
      "cell_type": "code",
      "source": [
        "tensor.dtype"
      ],
      "metadata": {
        "colab": {
          "base_uri": "https://localhost:8080/"
        },
        "id": "DXqlu6rQh9Fr",
        "outputId": "b4361975-795a-4710-ea1b-a6ff97c5e703"
      },
      "execution_count": 21,
      "outputs": [
        {
          "output_type": "execute_result",
          "data": {
            "text/plain": [
              "torch.int64"
            ]
          },
          "metadata": {},
          "execution_count": 21
        }
      ]
    },
    {
      "cell_type": "markdown",
      "source": [
        "### Random tensors\n",
        "Why random tensors?\n",
        "Random tensors are important because many NN start with random numbers for initial states"
      ],
      "metadata": {
        "id": "KIqHUnYFBUE2"
      }
    },
    {
      "cell_type": "markdown",
      "source": [
        "# Create a random tensor of size/shape (3, 4)"
      ],
      "metadata": {
        "id": "4tNU_gROBWuQ"
      }
    },
    {
      "cell_type": "code",
      "source": [
        "random_tensor = torch.rand(3, 4)\n",
        "random_tensor"
      ],
      "metadata": {
        "colab": {
          "base_uri": "https://localhost:8080/"
        },
        "id": "xnzL0BEaBync",
        "outputId": "900f674e-ca22-46bd-aaff-902a3fa7268d"
      },
      "execution_count": 22,
      "outputs": [
        {
          "output_type": "execute_result",
          "data": {
            "text/plain": [
              "tensor([[0.0783, 0.9216, 0.8768, 0.6236],\n",
              "        [0.9030, 0.3598, 0.1502, 0.2643],\n",
              "        [0.2371, 0.1421, 0.4858, 0.1110]])"
            ]
          },
          "metadata": {},
          "execution_count": 22
        }
      ]
    },
    {
      "cell_type": "code",
      "source": [
        "random_tensor.ndim"
      ],
      "metadata": {
        "colab": {
          "base_uri": "https://localhost:8080/"
        },
        "id": "dYZ2qPSuCpoz",
        "outputId": "add750a3-abad-4f93-d580-faaaeb95dd5d"
      },
      "execution_count": 23,
      "outputs": [
        {
          "output_type": "execute_result",
          "data": {
            "text/plain": [
              "2"
            ]
          },
          "metadata": {},
          "execution_count": 23
        }
      ]
    },
    {
      "cell_type": "code",
      "source": [
        "random_tensor = torch.rand(1, 10, 10)\n",
        "random_tensor"
      ],
      "metadata": {
        "colab": {
          "base_uri": "https://localhost:8080/"
        },
        "id": "mjz2XO5bCtTz",
        "outputId": "9db9a586-708a-4f27-cb86-4c013aff75a2"
      },
      "execution_count": 24,
      "outputs": [
        {
          "output_type": "execute_result",
          "data": {
            "text/plain": [
              "tensor([[[0.4973, 0.4250, 0.6099, 0.1173, 0.5884, 0.0323, 0.5997, 0.2297,\n",
              "          0.9846, 0.9913],\n",
              "         [0.7582, 0.3287, 0.5095, 0.0583, 0.5757, 0.0786, 0.2395, 0.0903,\n",
              "          0.1092, 0.8669],\n",
              "         [0.2534, 0.0785, 0.7023, 0.9248, 0.2530, 0.8223, 0.6823, 0.6013,\n",
              "          0.8263, 0.1417],\n",
              "         [0.2729, 0.5369, 0.0818, 0.8810, 0.9965, 0.4351, 0.6362, 0.3257,\n",
              "          0.5614, 0.7384],\n",
              "         [0.8004, 0.9018, 0.9215, 0.3730, 0.0857, 0.7237, 0.9684, 0.6815,\n",
              "          0.2394, 0.4826],\n",
              "         [0.2618, 0.8892, 0.3428, 0.7753, 0.9586, 0.5305, 0.5681, 0.0872,\n",
              "          0.5110, 0.1044],\n",
              "         [0.4564, 0.8855, 0.9306, 0.1626, 0.2042, 0.6039, 0.6713, 0.7771,\n",
              "          0.9566, 0.7119],\n",
              "         [0.3683, 0.5757, 0.6068, 0.5640, 0.6054, 0.6296, 0.6646, 0.7595,\n",
              "          0.1818, 0.6541],\n",
              "         [0.0952, 0.6547, 0.2693, 0.4577, 0.8660, 0.3624, 0.2125, 0.6734,\n",
              "          0.9568, 0.7283],\n",
              "         [0.7054, 0.4019, 0.9525, 0.2223, 0.6621, 0.5961, 0.9010, 0.3632,\n",
              "          0.1210, 0.4622]]])"
            ]
          },
          "metadata": {},
          "execution_count": 24
        }
      ]
    },
    {
      "cell_type": "code",
      "source": [
        "random_tensor.dtype"
      ],
      "metadata": {
        "colab": {
          "base_uri": "https://localhost:8080/"
        },
        "id": "ejrfyV-sDCKH",
        "outputId": "97fa5754-51eb-47d5-9997-788ab14bd625"
      },
      "execution_count": 25,
      "outputs": [
        {
          "output_type": "execute_result",
          "data": {
            "text/plain": [
              "torch.float32"
            ]
          },
          "metadata": {},
          "execution_count": 25
        }
      ]
    },
    {
      "cell_type": "markdown",
      "source": [
        "# Creating tensors of zeros and ones"
      ],
      "metadata": {
        "id": "AsZ0ZPPVEYOp"
      }
    },
    {
      "cell_type": "code",
      "source": [
        "zeros = torch.zeros(size=(3, 4))\n",
        "zeros"
      ],
      "metadata": {
        "colab": {
          "base_uri": "https://localhost:8080/"
        },
        "id": "5QRi1a3oEb8q",
        "outputId": "9d66b5d9-7cf7-4fcd-c0c0-28b8e163fd59"
      },
      "execution_count": 26,
      "outputs": [
        {
          "output_type": "execute_result",
          "data": {
            "text/plain": [
              "tensor([[0., 0., 0., 0.],\n",
              "        [0., 0., 0., 0.],\n",
              "        [0., 0., 0., 0.]])"
            ]
          },
          "metadata": {},
          "execution_count": 26
        }
      ]
    },
    {
      "cell_type": "code",
      "source": [
        "ones = torch.ones(size=(3, 4))\n",
        "ones"
      ],
      "metadata": {
        "colab": {
          "base_uri": "https://localhost:8080/"
        },
        "id": "L6Hz9JqtEfkw",
        "outputId": "ae597978-bbaf-44bc-c8cd-c7878ad2f4a3"
      },
      "execution_count": 27,
      "outputs": [
        {
          "output_type": "execute_result",
          "data": {
            "text/plain": [
              "tensor([[1., 1., 1., 1.],\n",
              "        [1., 1., 1., 1.],\n",
              "        [1., 1., 1., 1.]])"
            ]
          },
          "metadata": {},
          "execution_count": 27
        }
      ]
    },
    {
      "cell_type": "markdown",
      "source": [
        "# Creating tensors with arange and like\n",
        "With three args, start (inclusive), end (exclusive), and step\n",
        "\n",
        "The _like method create tensors with same shapes"
      ],
      "metadata": {
        "id": "VrISz1BlE5LY"
      }
    },
    {
      "cell_type": "code",
      "source": [
        "torch.arange(1, 10)"
      ],
      "metadata": {
        "colab": {
          "base_uri": "https://localhost:8080/"
        },
        "id": "6yr5KNXrE_jR",
        "outputId": "3b97d702-952a-45db-e20c-fc6b8c7057df"
      },
      "execution_count": 28,
      "outputs": [
        {
          "output_type": "execute_result",
          "data": {
            "text/plain": [
              "tensor([1, 2, 3, 4, 5, 6, 7, 8, 9])"
            ]
          },
          "metadata": {},
          "execution_count": 28
        }
      ]
    },
    {
      "cell_type": "code",
      "source": [
        "torch.arange(start=0, end=1000, step=77)"
      ],
      "metadata": {
        "colab": {
          "base_uri": "https://localhost:8080/"
        },
        "id": "RbBDmgsnFDMo",
        "outputId": "d001b31a-3e6d-4686-e11f-f23cfe767d43"
      },
      "execution_count": 29,
      "outputs": [
        {
          "output_type": "execute_result",
          "data": {
            "text/plain": [
              "tensor([  0,  77, 154, 231, 308, 385, 462, 539, 616, 693, 770, 847, 924])"
            ]
          },
          "metadata": {},
          "execution_count": 29
        }
      ]
    },
    {
      "cell_type": "code",
      "source": [
        "torch.arange(1, 11, 2)"
      ],
      "metadata": {
        "colab": {
          "base_uri": "https://localhost:8080/"
        },
        "id": "a8OLHkcgFPLk",
        "outputId": "78583146-3f94-4b48-c41d-4dbe882f8152"
      },
      "execution_count": 30,
      "outputs": [
        {
          "output_type": "execute_result",
          "data": {
            "text/plain": [
              "tensor([1, 3, 5, 7, 9])"
            ]
          },
          "metadata": {},
          "execution_count": 30
        }
      ]
    },
    {
      "cell_type": "code",
      "source": [
        "ten_zeros = torch.zeros_like(input=torch.arange(0, 10))\n",
        "ten_zeros"
      ],
      "metadata": {
        "colab": {
          "base_uri": "https://localhost:8080/"
        },
        "id": "BI7FwsvlGIGb",
        "outputId": "37d6b988-a60d-42a0-9f09-0f0a7b873cd3"
      },
      "execution_count": 31,
      "outputs": [
        {
          "output_type": "execute_result",
          "data": {
            "text/plain": [
              "tensor([0, 0, 0, 0, 0, 0, 0, 0, 0, 0])"
            ]
          },
          "metadata": {},
          "execution_count": 31
        }
      ]
    },
    {
      "cell_type": "code",
      "source": [],
      "metadata": {
        "id": "YuwiGeHN8k1c"
      },
      "execution_count": 31,
      "outputs": []
    },
    {
      "cell_type": "markdown",
      "source": [
        "### Tensor datatypes\n",
        "** Notes: ** Tensor datatype is one of the 3 big errors you'll run into with PyTorch and Deep Learning:\n",
        "1. Tensor not the right datatype\n",
        "2. Tensor not the right shape\n",
        "3. Tensor not on the right device"
      ],
      "metadata": {
        "id": "ophSgx7WxExf"
      }
    },
    {
      "cell_type": "code",
      "source": [
        "float_32_tensor = torch.tensor([3.0, 6.0, 9.0],\n",
        "                               dtype=None, # data types, float32 or float16, etc\n",
        "                               device='cuda', # what device is the tensor on, cpu or cuda\n",
        "                               requires_grad=False # should track gradients\n",
        "                               )\n",
        "float_32_tensor"
      ],
      "metadata": {
        "colab": {
          "base_uri": "https://localhost:8080/"
        },
        "id": "lZpqNCoPxMzJ",
        "outputId": "198b60ee-0042-47e0-ab13-58067b848bf3"
      },
      "execution_count": 32,
      "outputs": [
        {
          "output_type": "execute_result",
          "data": {
            "text/plain": [
              "tensor([3., 6., 9.], device='cuda:0')"
            ]
          },
          "metadata": {},
          "execution_count": 32
        }
      ]
    },
    {
      "cell_type": "code",
      "source": [
        "# dtype of a tensor is default to float32, even if we specified it to None\n",
        "float_32_tensor.dtype"
      ],
      "metadata": {
        "colab": {
          "base_uri": "https://localhost:8080/"
        },
        "id": "Lr3_ukNIxmwE",
        "outputId": "3e228e58-647b-4765-aa76-300071360e64"
      },
      "execution_count": 33,
      "outputs": [
        {
          "output_type": "execute_result",
          "data": {
            "text/plain": [
              "torch.float32"
            ]
          },
          "metadata": {},
          "execution_count": 33
        }
      ]
    },
    {
      "cell_type": "code",
      "source": [
        "float_16_tensor = float_32_tensor.type(torch.half)\n",
        "# half is same as float16, and float_16 apparently takes other attributes like device from float_32\n",
        "float_16_tensor, float_16_tensor.device, float_16_tensor.dtype"
      ],
      "metadata": {
        "colab": {
          "base_uri": "https://localhost:8080/"
        },
        "id": "pldudXIK1qQi",
        "outputId": "06b41455-b8c5-4875-a4cf-93d4df9fb732"
      },
      "execution_count": 34,
      "outputs": [
        {
          "output_type": "execute_result",
          "data": {
            "text/plain": [
              "(tensor([3., 6., 9.], device='cuda:0', dtype=torch.float16),\n",
              " device(type='cuda', index=0),\n",
              " torch.float16)"
            ]
          },
          "metadata": {},
          "execution_count": 34
        }
      ]
    },
    {
      "cell_type": "code",
      "source": [
        "float_16_tensor * float_32_tensor"
      ],
      "metadata": {
        "colab": {
          "base_uri": "https://localhost:8080/"
        },
        "id": "Q_8K7E_o2Rl3",
        "outputId": "9bdd719c-9b46-4c23-99a6-a2ffdc882215"
      },
      "execution_count": 35,
      "outputs": [
        {
          "output_type": "execute_result",
          "data": {
            "text/plain": [
              "tensor([ 9., 36., 81.], device='cuda:0')"
            ]
          },
          "metadata": {},
          "execution_count": 35
        }
      ]
    },
    {
      "cell_type": "markdown",
      "source": [
        "### Getting information from tensors\n",
        "* `shape` what shape is the tensor (some operations require specific shape rule)\n",
        "* `dtype` what data type are stored in the tensor\n",
        "* `device` what device the tensor is on (usually GPU or CPU)\n"
      ],
      "metadata": {
        "id": "wkVHDe_A8JFp"
      }
    },
    {
      "cell_type": "code",
      "source": [
        "# create a tensor\n",
        "some_tensor = torch.rand(3, 4)\n",
        "\n",
        "# find some details\n",
        "print(some_tensor)\n",
        "print(f\"Datatype of tensor: {some_tensor.dtype}\")\n",
        "print(f\"Shape of tensor: {some_tensor.shape}\")\n",
        "print(f\"Device tensor is on: {some_tensor.device}\")"
      ],
      "metadata": {
        "colab": {
          "base_uri": "https://localhost:8080/"
        },
        "id": "L1fqW-nb94V-",
        "outputId": "f5ee113f-c222-455d-ad63-e9accededcdd"
      },
      "execution_count": 36,
      "outputs": [
        {
          "output_type": "stream",
          "name": "stdout",
          "text": [
            "tensor([[0.8429, 0.4941, 0.6333, 0.3909],\n",
            "        [0.4863, 0.8481, 0.3958, 0.0246],\n",
            "        [0.4815, 0.0827, 0.0598, 0.4674]])\n",
            "Datatype of tensor: torch.float32\n",
            "Shape of tensor: torch.Size([3, 4])\n",
            "Device tensor is on: cpu\n"
          ]
        }
      ]
    },
    {
      "cell_type": "markdown",
      "source": [
        "### Manipulating tensors (tensor operations)\n",
        "* Addition\n",
        "* Substraction\n",
        "* Multiplication\n",
        "* Division\n",
        "* Matrix multiplication"
      ],
      "metadata": {
        "id": "pOzw5x_--D4C"
      }
    },
    {
      "cell_type": "code",
      "source": [
        "# create tensor and add numbers to elements\n",
        "tensor = torch.tensor([1,2,3])\n",
        "tensor"
      ],
      "metadata": {
        "colab": {
          "base_uri": "https://localhost:8080/"
        },
        "id": "DLghE9ic-PP7",
        "outputId": "f9d5e5fd-e354-4b8a-9d70-1382e2c7c4df"
      },
      "execution_count": 37,
      "outputs": [
        {
          "output_type": "execute_result",
          "data": {
            "text/plain": [
              "tensor([1, 2, 3])"
            ]
          },
          "metadata": {},
          "execution_count": 37
        }
      ]
    },
    {
      "cell_type": "code",
      "source": [
        "tensor + 10"
      ],
      "metadata": {
        "colab": {
          "base_uri": "https://localhost:8080/"
        },
        "id": "BBZ0eHhw-XRA",
        "outputId": "02107b83-c8f6-41ba-978f-606254f0aecd"
      },
      "execution_count": 38,
      "outputs": [
        {
          "output_type": "execute_result",
          "data": {
            "text/plain": [
              "tensor([11, 12, 13])"
            ]
          },
          "metadata": {},
          "execution_count": 38
        }
      ]
    },
    {
      "cell_type": "code",
      "source": [
        "# multiply elements\n",
        "tensor * 10"
      ],
      "metadata": {
        "colab": {
          "base_uri": "https://localhost:8080/"
        },
        "id": "Ud_U5fZ5-Ypt",
        "outputId": "8ee25aaf-a48c-4def-f747-6968cd1ab9bb"
      },
      "execution_count": 39,
      "outputs": [
        {
          "output_type": "execute_result",
          "data": {
            "text/plain": [
              "tensor([10, 20, 30])"
            ]
          },
          "metadata": {},
          "execution_count": 39
        }
      ]
    },
    {
      "cell_type": "code",
      "source": [
        "# tensor doesn't change unless reassigned\n",
        "tensor"
      ],
      "metadata": {
        "colab": {
          "base_uri": "https://localhost:8080/"
        },
        "id": "e60lW1MH-ekn",
        "outputId": "7f8455f3-fd23-4771-a2c7-d1bcef3605ea"
      },
      "execution_count": 40,
      "outputs": [
        {
          "output_type": "execute_result",
          "data": {
            "text/plain": [
              "tensor([1, 2, 3])"
            ]
          },
          "metadata": {},
          "execution_count": 40
        }
      ]
    },
    {
      "cell_type": "markdown",
      "source": [
        "### Matrix multiplication (is all you need)\n",
        "The most common operation in neural net and deep learning is `matrix multiplication`, aka matmul in PyTorch.\n",
        "\n",
        "The two rules for mat mul is:\n",
        "1) The **inner dimensions** must match\n",
        "2) The resulting matrix has the **outer dimensions**"
      ],
      "metadata": {
        "id": "Ud71kaP5-k8m"
      }
    },
    {
      "cell_type": "code",
      "source": [
        "# element wise multi\n",
        "print(tensor, \"*\", tensor)\n",
        "print(f\"Equals: {tensor * tensor}\")\n"
      ],
      "metadata": {
        "colab": {
          "base_uri": "https://localhost:8080/"
        },
        "id": "RyZ7CQ5V_LK_",
        "outputId": "b16059ac-e1c1-443f-ed51-1c53c91219e6"
      },
      "execution_count": 41,
      "outputs": [
        {
          "output_type": "stream",
          "name": "stdout",
          "text": [
            "tensor([1, 2, 3]) * tensor([1, 2, 3])\n",
            "Equals: tensor([1, 4, 9])\n"
          ]
        }
      ]
    },
    {
      "cell_type": "code",
      "source": [
        "# matrix multiplication\n",
        "torch.matmul(tensor, tensor)"
      ],
      "metadata": {
        "colab": {
          "base_uri": "https://localhost:8080/"
        },
        "id": "59r9REPyjJIe",
        "outputId": "340ee8a5-4c1f-46a1-c95c-721ac013543d"
      },
      "execution_count": 42,
      "outputs": [
        {
          "output_type": "execute_result",
          "data": {
            "text/plain": [
              "tensor(14)"
            ]
          },
          "metadata": {},
          "execution_count": 42
        }
      ]
    },
    {
      "cell_type": "code",
      "source": [
        "# the at @ symbol is an operator for matmul\n",
        "tensor @ tensor"
      ],
      "metadata": {
        "colab": {
          "base_uri": "https://localhost:8080/"
        },
        "id": "C9qjIWZtmDSk",
        "outputId": "a8d057e8-1fee-4ae4-eb61-6a4edb095125"
      },
      "execution_count": 47,
      "outputs": [
        {
          "output_type": "execute_result",
          "data": {
            "text/plain": [
              "tensor(14)"
            ]
          },
          "metadata": {},
          "execution_count": 47
        }
      ]
    },
    {
      "cell_type": "code",
      "source": [
        "# so is torch.mm\n",
        "# BUT torch.mm only works with matrix, not vector or tensor\n",
        "\n",
        "# torch.mm(tensor, tensor)\n"
      ],
      "metadata": {
        "colab": {
          "base_uri": "https://localhost:8080/",
          "height": 159
        },
        "id": "KYJvbtX7m03G",
        "outputId": "479dac3f-1b05-4a71-81be-fcefcca6090c"
      },
      "execution_count": 48,
      "outputs": [
        {
          "output_type": "error",
          "ename": "RuntimeError",
          "evalue": "self must be a matrix",
          "traceback": [
            "\u001b[0;31m---------------------------------------------------------------------------\u001b[0m",
            "\u001b[0;31mRuntimeError\u001b[0m                              Traceback (most recent call last)",
            "\u001b[0;32m<ipython-input-48-9103518f1ca9>\u001b[0m in \u001b[0;36m<cell line: 0>\u001b[0;34m()\u001b[0m\n\u001b[1;32m      1\u001b[0m \u001b[0;31m# so is torch.mm\u001b[0m\u001b[0;34m\u001b[0m\u001b[0;34m\u001b[0m\u001b[0m\n\u001b[0;32m----> 2\u001b[0;31m \u001b[0mtorch\u001b[0m\u001b[0;34m.\u001b[0m\u001b[0mmm\u001b[0m\u001b[0;34m(\u001b[0m\u001b[0mtensor\u001b[0m\u001b[0;34m,\u001b[0m \u001b[0mtensor\u001b[0m\u001b[0;34m)\u001b[0m\u001b[0;34m\u001b[0m\u001b[0;34m\u001b[0m\u001b[0m\n\u001b[0m",
            "\u001b[0;31mRuntimeError\u001b[0m: self must be a matrix"
          ]
        }
      ]
    },
    {
      "cell_type": "code",
      "source": [
        "%%time\n",
        "\n",
        "# mat mul with loops\n",
        "value = 0\n",
        "for i in range(len(tensor)):\n",
        "  value += tensor[i] * tensor[i]\n",
        "print(value)"
      ],
      "metadata": {
        "colab": {
          "base_uri": "https://localhost:8080/"
        },
        "id": "E1hLHUIDjV0x",
        "outputId": "073e30f4-306f-49d9-e2da-280fc1ea2671"
      },
      "execution_count": 43,
      "outputs": [
        {
          "output_type": "stream",
          "name": "stdout",
          "text": [
            "tensor(14)\n",
            "CPU times: user 1.58 ms, sys: 956 µs, total: 2.53 ms\n",
            "Wall time: 2.52 ms\n"
          ]
        }
      ]
    },
    {
      "cell_type": "code",
      "source": [
        "%%time\n",
        "\n",
        "# mat mul with torch method, which is faster by 3 order of magnitude\n",
        "torch.matmul(tensor, tensor)"
      ],
      "metadata": {
        "colab": {
          "base_uri": "https://localhost:8080/"
        },
        "id": "xHSIeurCjmuz",
        "outputId": "74ec43dd-2afd-4a9b-8ae5-3d1d1ee58ff3"
      },
      "execution_count": 44,
      "outputs": [
        {
          "output_type": "stream",
          "name": "stdout",
          "text": [
            "CPU times: user 477 µs, sys: 0 ns, total: 477 µs\n",
            "Wall time: 402 µs\n"
          ]
        },
        {
          "output_type": "execute_result",
          "data": {
            "text/plain": [
              "tensor(14)"
            ]
          },
          "metadata": {},
          "execution_count": 44
        }
      ]
    },
    {
      "cell_type": "markdown",
      "source": [
        "### The most common in deep learning: shape errors   \n",
        "To fix tensor shape issue, we can manipulate the shape of tensor using transpose\n"
      ],
      "metadata": {
        "id": "B-xNw0nDjyoU"
      }
    },
    {
      "cell_type": "code",
      "source": [
        "# create two tensor\n",
        "tensor_A = torch.tensor([[1, 2],\n",
        "                         [3, 4],\n",
        "                         [5, 6]])\n",
        "tensor_B = torch.tensor([[7, 10],\n",
        "                         [8, 11],\n",
        "                         [9, 12]])\n",
        "\n",
        "tensor_A.shape, tensor_B.shape"
      ],
      "metadata": {
        "colab": {
          "base_uri": "https://localhost:8080/"
        },
        "id": "xXovf75LqJoR",
        "outputId": "4979e947-9280-4a75-c728-3fbdb4b3e6c3"
      },
      "execution_count": 49,
      "outputs": [
        {
          "output_type": "execute_result",
          "data": {
            "text/plain": [
              "(torch.Size([3, 2]), torch.Size([3, 2]))"
            ]
          },
          "metadata": {},
          "execution_count": 49
        }
      ]
    },
    {
      "cell_type": "code",
      "source": [
        "# use T, or transpose\n",
        "tensor_B.T, tensor_B.T.shape"
      ],
      "metadata": {
        "colab": {
          "base_uri": "https://localhost:8080/"
        },
        "id": "rfVLModZqT5i",
        "outputId": "903f40f0-1877-4c4d-9220-29b1f654eba3"
      },
      "execution_count": 50,
      "outputs": [
        {
          "output_type": "execute_result",
          "data": {
            "text/plain": [
              "(tensor([[ 7,  8,  9],\n",
              "         [10, 11, 12]]),\n",
              " torch.Size([2, 3]))"
            ]
          },
          "metadata": {},
          "execution_count": 50
        }
      ]
    },
    {
      "cell_type": "code",
      "source": [
        "# with b transposed, now the rule for mat mul is met\n",
        "torch.matmul(tensor_A, tensor_B.T)\n"
      ],
      "metadata": {
        "colab": {
          "base_uri": "https://localhost:8080/"
        },
        "id": "sFaWkrtqrwFI",
        "outputId": "8f90ad19-3b5d-4e08-e8c7-7dcd62574810"
      },
      "execution_count": 51,
      "outputs": [
        {
          "output_type": "execute_result",
          "data": {
            "text/plain": [
              "tensor([[ 27,  30,  33],\n",
              "        [ 61,  68,  75],\n",
              "        [ 95, 106, 117]])"
            ]
          },
          "metadata": {},
          "execution_count": 51
        }
      ]
    },
    {
      "cell_type": "markdown",
      "source": [
        "### Finding the min, max, mean, sum and other tensor aggregation."
      ],
      "metadata": {
        "id": "k_x1waHztRMC"
      }
    },
    {
      "cell_type": "code",
      "source": [
        "# create a tensor\n",
        "x = torch.arange(0, 100, 10)\n",
        "x"
      ],
      "metadata": {
        "id": "moS5fM6WtXNf",
        "outputId": "3da929ee-a9b2-4798-8794-8e657c4ccf42",
        "colab": {
          "base_uri": "https://localhost:8080/"
        }
      },
      "execution_count": 53,
      "outputs": [
        {
          "output_type": "execute_result",
          "data": {
            "text/plain": [
              "tensor([ 0, 10, 20, 30, 40, 50, 60, 70, 80, 90])"
            ]
          },
          "metadata": {},
          "execution_count": 53
        }
      ]
    },
    {
      "cell_type": "code",
      "source": [
        "# find min\n",
        "torch.min(x), x.min()"
      ],
      "metadata": {
        "id": "l4AtkYDItf63",
        "outputId": "f49536c6-5972-4a44-e84d-acec835728d3",
        "colab": {
          "base_uri": "https://localhost:8080/"
        }
      },
      "execution_count": 54,
      "outputs": [
        {
          "output_type": "execute_result",
          "data": {
            "text/plain": [
              "(tensor(0), tensor(0))"
            ]
          },
          "metadata": {},
          "execution_count": 54
        }
      ]
    },
    {
      "cell_type": "code",
      "source": [
        "# find max\n",
        "torch.max(x), x.max()"
      ],
      "metadata": {
        "id": "AkN2iQMYtj0j",
        "outputId": "e69fc797-ab59-4683-cdce-8de705bbb39c",
        "colab": {
          "base_uri": "https://localhost:8080/"
        }
      },
      "execution_count": 55,
      "outputs": [
        {
          "output_type": "execute_result",
          "data": {
            "text/plain": [
              "(tensor(90), tensor(90))"
            ]
          },
          "metadata": {},
          "execution_count": 55
        }
      ]
    },
    {
      "cell_type": "code",
      "source": [
        "# find avg\n",
        "\n",
        "# watch out for dtype error for the dtype error\n",
        "#torch.mean(x), x.mean()\n"
      ],
      "metadata": {
        "id": "2pkkl2MwtnLe"
      },
      "execution_count": 59,
      "outputs": []
    },
    {
      "cell_type": "code",
      "source": [
        "# Need to specify data type from int/long to some float so we can do mean\n",
        "torch.mean(x.type(torch.float32)), x.type(torch.float32).mean()"
      ],
      "metadata": {
        "id": "uYYyfF6Wt-dB",
        "outputId": "c2db9927-e15f-4a28-8a9a-92cbed958cd6",
        "colab": {
          "base_uri": "https://localhost:8080/"
        }
      },
      "execution_count": 58,
      "outputs": [
        {
          "output_type": "execute_result",
          "data": {
            "text/plain": [
              "(tensor(45.), tensor(45.))"
            ]
          },
          "metadata": {},
          "execution_count": 58
        }
      ]
    },
    {
      "cell_type": "code",
      "source": [
        "# find sum\n",
        "torch.sum(x), x.sum()"
      ],
      "metadata": {
        "id": "o278IsV3up7K",
        "outputId": "65f56fed-847c-4dac-f1c0-b1b05bef0721",
        "colab": {
          "base_uri": "https://localhost:8080/"
        }
      },
      "execution_count": 60,
      "outputs": [
        {
          "output_type": "execute_result",
          "data": {
            "text/plain": [
              "(tensor(450), tensor(450))"
            ]
          },
          "metadata": {},
          "execution_count": 60
        }
      ]
    },
    {
      "cell_type": "markdown",
      "source": [
        "### Finding position min and max, aka argmin and argmax"
      ],
      "metadata": {
        "id": "s8TYAKaWu3HD"
      }
    },
    {
      "cell_type": "code",
      "source": [
        "x"
      ],
      "metadata": {
        "id": "o1BYhk9hvEEL",
        "outputId": "b00f43b9-ed2d-4c9a-e3dd-53d2d8216072",
        "colab": {
          "base_uri": "https://localhost:8080/"
        }
      },
      "execution_count": 61,
      "outputs": [
        {
          "output_type": "execute_result",
          "data": {
            "text/plain": [
              "tensor([ 0, 10, 20, 30, 40, 50, 60, 70, 80, 90])"
            ]
          },
          "metadata": {},
          "execution_count": 61
        }
      ]
    },
    {
      "cell_type": "code",
      "source": [
        "# argmin\n",
        "torch.argmin(x), x.argmin()"
      ],
      "metadata": {
        "id": "Vyzq6i7jvFNi",
        "outputId": "778c00c3-5ce0-4697-8cbe-b3f08ec116bf",
        "colab": {
          "base_uri": "https://localhost:8080/"
        }
      },
      "execution_count": 62,
      "outputs": [
        {
          "output_type": "execute_result",
          "data": {
            "text/plain": [
              "(tensor(0), tensor(0))"
            ]
          },
          "metadata": {},
          "execution_count": 62
        }
      ]
    },
    {
      "cell_type": "code",
      "source": [
        "# argmax\n",
        "torch.argmax(x), x.argmax()"
      ],
      "metadata": {
        "id": "BTrEKyOhvJu7",
        "outputId": "8f3ae801-fc5b-45df-e89f-1c82480b6681",
        "colab": {
          "base_uri": "https://localhost:8080/"
        }
      },
      "execution_count": 63,
      "outputs": [
        {
          "output_type": "execute_result",
          "data": {
            "text/plain": [
              "(tensor(9), tensor(9))"
            ]
          },
          "metadata": {},
          "execution_count": 63
        }
      ]
    },
    {
      "cell_type": "code",
      "source": [
        "x[x.argmax()]"
      ],
      "metadata": {
        "id": "waYpl4gvvV7V",
        "outputId": "644809c9-00bb-4d18-e2a5-ef5260756f82",
        "colab": {
          "base_uri": "https://localhost:8080/"
        }
      },
      "execution_count": 64,
      "outputs": [
        {
          "output_type": "execute_result",
          "data": {
            "text/plain": [
              "tensor(90)"
            ]
          },
          "metadata": {},
          "execution_count": 64
        }
      ]
    }
  ]
}