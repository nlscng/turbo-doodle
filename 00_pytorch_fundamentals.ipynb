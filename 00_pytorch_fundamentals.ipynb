{
  "nbformat": 4,
  "nbformat_minor": 0,
  "metadata": {
    "colab": {
      "provenance": [],
      "gpuType": "T4",
      "authorship_tag": "ABX9TyNW4kvP35fDxeFkr4RQsSpQ",
      "include_colab_link": true
    },
    "kernelspec": {
      "name": "python3",
      "display_name": "Python 3"
    },
    "language_info": {
      "name": "python"
    },
    "accelerator": "GPU"
  },
  "cells": [
    {
      "cell_type": "markdown",
      "metadata": {
        "id": "view-in-github",
        "colab_type": "text"
      },
      "source": [
        "<a href=\"https://colab.research.google.com/github/nlscng/turbo-doodle/blob/main/00_pytorch_fundamentals.ipynb\" target=\"_parent\"><img src=\"https://colab.research.google.com/assets/colab-badge.svg\" alt=\"Open In Colab\"/></a>"
      ]
    },
    {
      "cell_type": "code",
      "execution_count": 1,
      "metadata": {
        "colab": {
          "base_uri": "https://localhost:8080/",
          "height": 35
        },
        "id": "idFw_FQ5nXCv",
        "outputId": "3977fc2a-8b5e-4390-d10a-f1b03f8e951f"
      },
      "outputs": [
        {
          "output_type": "execute_result",
          "data": {
            "text/plain": [
              "'2.5.1+cu124'"
            ],
            "application/vnd.google.colaboratory.intrinsic+json": {
              "type": "string"
            }
          },
          "metadata": {},
          "execution_count": 1
        }
      ],
      "source": [
        "import torch\n",
        "import pandas as pd\n",
        "import numpy as np\n",
        "import matplotlib.pyplot as plt\n",
        "torch.__version__"
      ]
    },
    {
      "cell_type": "markdown",
      "source": [
        "### Introduction to tensors\n",
        "Creating tensors\n",
        "\n",
        "Pytorch tensors are created using torch.Tensor()"
      ],
      "metadata": {
        "id": "A2kJ3hcqeK-8"
      }
    },
    {
      "cell_type": "code",
      "source": [
        "scalar = torch.tensor(7)"
      ],
      "metadata": {
        "id": "wNOFdv6GclS_"
      },
      "execution_count": 2,
      "outputs": []
    },
    {
      "cell_type": "code",
      "source": [
        "scalar"
      ],
      "metadata": {
        "colab": {
          "base_uri": "https://localhost:8080/"
        },
        "id": "Io7fUgT1czHU",
        "outputId": "9bcfcd3b-3f9b-4305-f76f-238af36ff2ac"
      },
      "execution_count": 3,
      "outputs": [
        {
          "output_type": "execute_result",
          "data": {
            "text/plain": [
              "tensor(7)"
            ]
          },
          "metadata": {},
          "execution_count": 3
        }
      ]
    },
    {
      "cell_type": "code",
      "source": [
        "scalar.type()"
      ],
      "metadata": {
        "colab": {
          "base_uri": "https://localhost:8080/",
          "height": 35
        },
        "id": "H-Kfvre9c_ur",
        "outputId": "4b4257b8-fd35-4c2f-bbde-af86e901369e"
      },
      "execution_count": 4,
      "outputs": [
        {
          "output_type": "execute_result",
          "data": {
            "text/plain": [
              "'torch.LongTensor'"
            ],
            "application/vnd.google.colaboratory.intrinsic+json": {
              "type": "string"
            }
          },
          "metadata": {},
          "execution_count": 4
        }
      ]
    },
    {
      "cell_type": "code",
      "source": [
        "scalar.ndim\n",
        "# scala has zero or no dimension"
      ],
      "metadata": {
        "colab": {
          "base_uri": "https://localhost:8080/"
        },
        "id": "pEzOBuw5dFyW",
        "outputId": "b63967ba-ea5f-4975-ec38-0eec73c26659"
      },
      "execution_count": 5,
      "outputs": [
        {
          "output_type": "execute_result",
          "data": {
            "text/plain": [
              "0"
            ]
          },
          "metadata": {},
          "execution_count": 5
        }
      ]
    },
    {
      "cell_type": "code",
      "source": [
        "scalar.item()\n",
        "# only works with one-element tensors"
      ],
      "metadata": {
        "colab": {
          "base_uri": "https://localhost:8080/"
        },
        "id": "AmcHc_RydJ1_",
        "outputId": "f4ad5bb1-54e2-4620-cbb0-c2507942837c"
      },
      "execution_count": 6,
      "outputs": [
        {
          "output_type": "execute_result",
          "data": {
            "text/plain": [
              "7"
            ]
          },
          "metadata": {},
          "execution_count": 6
        }
      ]
    },
    {
      "cell_type": "code",
      "source": [
        "type(scalar.item())\n",
        "# returns a python type int"
      ],
      "metadata": {
        "colab": {
          "base_uri": "https://localhost:8080/"
        },
        "id": "RYUBWSY7dPn8",
        "outputId": "8b3c2c70-5ada-42ee-e7e5-d9d584990a79"
      },
      "execution_count": 7,
      "outputs": [
        {
          "output_type": "execute_result",
          "data": {
            "text/plain": [
              "int"
            ]
          },
          "metadata": {},
          "execution_count": 7
        }
      ]
    },
    {
      "cell_type": "code",
      "source": [
        "vector = torch.tensor([7, 7])\n",
        "vector"
      ],
      "metadata": {
        "colab": {
          "base_uri": "https://localhost:8080/"
        },
        "id": "nxkcTRJDflwq",
        "outputId": "5e182113-bd4c-4da5-e410-629effcd08e1"
      },
      "execution_count": 8,
      "outputs": [
        {
          "output_type": "execute_result",
          "data": {
            "text/plain": [
              "tensor([7, 7])"
            ]
          },
          "metadata": {},
          "execution_count": 8
        }
      ]
    },
    {
      "cell_type": "code",
      "source": [
        "vector.ndim"
      ],
      "metadata": {
        "colab": {
          "base_uri": "https://localhost:8080/"
        },
        "id": "TQUPPHLQf2ai",
        "outputId": "6a09fdbb-36e7-4b58-9e88-9d6a58c7c405"
      },
      "execution_count": 9,
      "outputs": [
        {
          "output_type": "execute_result",
          "data": {
            "text/plain": [
              "1"
            ]
          },
          "metadata": {},
          "execution_count": 9
        }
      ]
    },
    {
      "cell_type": "code",
      "source": [
        "vector.shape\n",
        "# prints with torch.size?"
      ],
      "metadata": {
        "colab": {
          "base_uri": "https://localhost:8080/"
        },
        "id": "hKBDXJZ5gEfS",
        "outputId": "71ebca2d-6457-438d-e868-6a7724a2e0ec"
      },
      "execution_count": 10,
      "outputs": [
        {
          "output_type": "execute_result",
          "data": {
            "text/plain": [
              "torch.Size([2])"
            ]
          },
          "metadata": {},
          "execution_count": 10
        }
      ]
    },
    {
      "cell_type": "code",
      "source": [
        "# matrix\n",
        "matrix = torch.tensor([[7, 8], [9, 10]])"
      ],
      "metadata": {
        "id": "M9gDq1mqgNW6"
      },
      "execution_count": 11,
      "outputs": []
    },
    {
      "cell_type": "code",
      "source": [
        "matrix"
      ],
      "metadata": {
        "colab": {
          "base_uri": "https://localhost:8080/"
        },
        "id": "7FtzBBcIgWl6",
        "outputId": "e2a5357b-ac15-482f-bae5-2e1d71a68b19"
      },
      "execution_count": 12,
      "outputs": [
        {
          "output_type": "execute_result",
          "data": {
            "text/plain": [
              "tensor([[ 7,  8],\n",
              "        [ 9, 10]])"
            ]
          },
          "metadata": {},
          "execution_count": 12
        }
      ]
    },
    {
      "cell_type": "code",
      "source": [
        "matrix.ndim"
      ],
      "metadata": {
        "colab": {
          "base_uri": "https://localhost:8080/"
        },
        "id": "DilXZeoOgcIA",
        "outputId": "64ede973-4271-4f72-eded-228b50a3822d"
      },
      "execution_count": 13,
      "outputs": [
        {
          "output_type": "execute_result",
          "data": {
            "text/plain": [
              "2"
            ]
          },
          "metadata": {},
          "execution_count": 13
        }
      ]
    },
    {
      "cell_type": "code",
      "source": [
        "matrix.shape"
      ],
      "metadata": {
        "colab": {
          "base_uri": "https://localhost:8080/"
        },
        "id": "Zx6VMyFFgeND",
        "outputId": "058552ca-3b91-4874-e7d3-789bc6c2690c"
      },
      "execution_count": 14,
      "outputs": [
        {
          "output_type": "execute_result",
          "data": {
            "text/plain": [
              "torch.Size([2, 2])"
            ]
          },
          "metadata": {},
          "execution_count": 14
        }
      ]
    },
    {
      "cell_type": "markdown",
      "source": [
        "Creating tensors"
      ],
      "metadata": {
        "id": "tHpkAcSLgxcS"
      }
    },
    {
      "cell_type": "code",
      "source": [
        "# tensors\n",
        "tensor = torch.tensor([[[1, 2, 3], [3, 6, 9], [2, 4, 5]]])\n",
        "tensor"
      ],
      "metadata": {
        "colab": {
          "base_uri": "https://localhost:8080/"
        },
        "id": "Y-ucaUdbgzwi",
        "outputId": "a0e505a5-7808-4954-cd5d-1e003d740a4b"
      },
      "execution_count": 15,
      "outputs": [
        {
          "output_type": "execute_result",
          "data": {
            "text/plain": [
              "tensor([[[1, 2, 3],\n",
              "         [3, 6, 9],\n",
              "         [2, 4, 5]]])"
            ]
          },
          "metadata": {},
          "execution_count": 15
        }
      ]
    },
    {
      "cell_type": "code",
      "source": [
        "tensor.ndim"
      ],
      "metadata": {
        "colab": {
          "base_uri": "https://localhost:8080/"
        },
        "id": "Wd6x4XQ0hBLP",
        "outputId": "3ff7d30d-fbdb-4614-8e47-f9a49d2360a6"
      },
      "execution_count": 16,
      "outputs": [
        {
          "output_type": "execute_result",
          "data": {
            "text/plain": [
              "3"
            ]
          },
          "metadata": {},
          "execution_count": 16
        }
      ]
    },
    {
      "cell_type": "code",
      "source": [
        "tensor.shape\n",
        "# the first dim is 1, not 3"
      ],
      "metadata": {
        "colab": {
          "base_uri": "https://localhost:8080/"
        },
        "id": "P2PpyocxhDPM",
        "outputId": "d5053570-86af-48ad-cc1b-41dfb0079f22"
      },
      "execution_count": 17,
      "outputs": [
        {
          "output_type": "execute_result",
          "data": {
            "text/plain": [
              "torch.Size([1, 3, 3])"
            ]
          },
          "metadata": {},
          "execution_count": 17
        }
      ]
    },
    {
      "cell_type": "code",
      "source": [
        "tensor[0]"
      ],
      "metadata": {
        "colab": {
          "base_uri": "https://localhost:8080/"
        },
        "id": "-pLBvExhhS_O",
        "outputId": "954517ac-8567-4a79-a46d-f2e5e930bec2"
      },
      "execution_count": 18,
      "outputs": [
        {
          "output_type": "execute_result",
          "data": {
            "text/plain": [
              "tensor([[1, 2, 3],\n",
              "        [3, 6, 9],\n",
              "        [2, 4, 5]])"
            ]
          },
          "metadata": {},
          "execution_count": 18
        }
      ]
    },
    {
      "cell_type": "code",
      "source": [
        "tensor.device"
      ],
      "metadata": {
        "colab": {
          "base_uri": "https://localhost:8080/"
        },
        "id": "a9FQ9qeDh6DC",
        "outputId": "a05afb21-5526-4bee-ed72-82a6e44d31f5"
      },
      "execution_count": 19,
      "outputs": [
        {
          "output_type": "execute_result",
          "data": {
            "text/plain": [
              "device(type='cpu')"
            ]
          },
          "metadata": {},
          "execution_count": 19
        }
      ]
    },
    {
      "cell_type": "code",
      "source": [
        "tensor.dtype"
      ],
      "metadata": {
        "colab": {
          "base_uri": "https://localhost:8080/"
        },
        "id": "DXqlu6rQh9Fr",
        "outputId": "43ac4447-5eae-4b3c-a55f-75b0da189f51"
      },
      "execution_count": 20,
      "outputs": [
        {
          "output_type": "execute_result",
          "data": {
            "text/plain": [
              "torch.int64"
            ]
          },
          "metadata": {},
          "execution_count": 20
        }
      ]
    },
    {
      "cell_type": "markdown",
      "source": [
        "### Random tensors\n",
        "Why random tensors?\n",
        "Random tensors are important because many NN start with random numbers for initial states"
      ],
      "metadata": {
        "id": "KIqHUnYFBUE2"
      }
    },
    {
      "cell_type": "markdown",
      "source": [
        "# Create a random tensor of size/shape (3, 4)"
      ],
      "metadata": {
        "id": "4tNU_gROBWuQ"
      }
    },
    {
      "cell_type": "code",
      "source": [
        "random_tensor = torch.rand(3, 4)\n",
        "random_tensor"
      ],
      "metadata": {
        "colab": {
          "base_uri": "https://localhost:8080/"
        },
        "id": "xnzL0BEaBync",
        "outputId": "59112a0b-30d3-4a56-f818-c7f3d0c5f8e0"
      },
      "execution_count": 21,
      "outputs": [
        {
          "output_type": "execute_result",
          "data": {
            "text/plain": [
              "tensor([[0.2538, 0.6669, 0.3703, 0.7765],\n",
              "        [0.5339, 0.1972, 0.7531, 0.5998],\n",
              "        [0.1957, 0.2591, 0.8431, 0.1184]])"
            ]
          },
          "metadata": {},
          "execution_count": 21
        }
      ]
    },
    {
      "cell_type": "code",
      "source": [
        "random_tensor.ndim"
      ],
      "metadata": {
        "colab": {
          "base_uri": "https://localhost:8080/"
        },
        "id": "dYZ2qPSuCpoz",
        "outputId": "bd23fae9-6435-437a-876f-3a9acba9a73d"
      },
      "execution_count": 22,
      "outputs": [
        {
          "output_type": "execute_result",
          "data": {
            "text/plain": [
              "2"
            ]
          },
          "metadata": {},
          "execution_count": 22
        }
      ]
    },
    {
      "cell_type": "code",
      "source": [
        "random_tensor = torch.rand(1, 10, 10)\n",
        "random_tensor"
      ],
      "metadata": {
        "colab": {
          "base_uri": "https://localhost:8080/"
        },
        "id": "mjz2XO5bCtTz",
        "outputId": "cd5b8a08-f0db-4c0c-d752-5be9fab092c9"
      },
      "execution_count": 23,
      "outputs": [
        {
          "output_type": "execute_result",
          "data": {
            "text/plain": [
              "tensor([[[0.0267, 0.7840, 0.7641, 0.2636, 0.8727, 0.4979, 0.1235, 0.9208,\n",
              "          0.5053, 0.6924],\n",
              "         [0.1592, 0.8050, 0.3626, 0.1143, 0.1228, 0.1505, 0.6102, 0.3894,\n",
              "          0.0909, 0.7755],\n",
              "         [0.1076, 0.9406, 0.5109, 0.6712, 0.5889, 0.6146, 0.0242, 0.4140,\n",
              "          0.7703, 0.7138],\n",
              "         [0.6398, 0.3590, 0.0826, 0.1593, 0.6241, 0.9976, 0.3354, 0.6227,\n",
              "          0.7886, 0.4550],\n",
              "         [0.3690, 0.0394, 0.6664, 0.0240, 0.0417, 0.4868, 0.8208, 0.9441,\n",
              "          0.1684, 0.3058],\n",
              "         [0.1822, 0.9494, 0.5236, 0.9864, 0.9540, 0.3198, 0.7251, 0.3525,\n",
              "          0.3214, 0.7911],\n",
              "         [0.2095, 0.2891, 0.2925, 0.5698, 0.4913, 0.1306, 0.0891, 0.7392,\n",
              "          0.1445, 0.0240],\n",
              "         [0.7897, 0.5994, 0.7010, 0.2541, 0.8614, 0.9000, 0.9303, 0.8501,\n",
              "          0.0544, 0.2512],\n",
              "         [0.1185, 0.0496, 0.4949, 0.3670, 0.1995, 0.0104, 0.0951, 0.4671,\n",
              "          0.4380, 0.3230],\n",
              "         [0.1972, 0.8926, 0.7550, 0.6206, 0.0416, 0.2910, 0.3598, 0.7690,\n",
              "          0.0956, 0.7594]]])"
            ]
          },
          "metadata": {},
          "execution_count": 23
        }
      ]
    },
    {
      "cell_type": "code",
      "source": [
        "random_tensor.dtype"
      ],
      "metadata": {
        "colab": {
          "base_uri": "https://localhost:8080/"
        },
        "id": "ejrfyV-sDCKH",
        "outputId": "7873c8f4-2348-41d6-dae3-6c11dcd444b5"
      },
      "execution_count": 24,
      "outputs": [
        {
          "output_type": "execute_result",
          "data": {
            "text/plain": [
              "torch.float32"
            ]
          },
          "metadata": {},
          "execution_count": 24
        }
      ]
    },
    {
      "cell_type": "markdown",
      "source": [
        "# Creating tensors of zeros and ones"
      ],
      "metadata": {
        "id": "AsZ0ZPPVEYOp"
      }
    },
    {
      "cell_type": "code",
      "source": [
        "zeros = torch.zeros(size=(3, 4))\n",
        "zeros"
      ],
      "metadata": {
        "colab": {
          "base_uri": "https://localhost:8080/"
        },
        "id": "5QRi1a3oEb8q",
        "outputId": "b8e81056-842b-4d5c-84fc-7350a7bd5443"
      },
      "execution_count": 25,
      "outputs": [
        {
          "output_type": "execute_result",
          "data": {
            "text/plain": [
              "tensor([[0., 0., 0., 0.],\n",
              "        [0., 0., 0., 0.],\n",
              "        [0., 0., 0., 0.]])"
            ]
          },
          "metadata": {},
          "execution_count": 25
        }
      ]
    },
    {
      "cell_type": "code",
      "source": [
        "ones = torch.ones(size=(3, 4))\n",
        "ones"
      ],
      "metadata": {
        "colab": {
          "base_uri": "https://localhost:8080/"
        },
        "id": "L6Hz9JqtEfkw",
        "outputId": "b7d0c662-5e2a-4ef2-9aaf-71e7ae1178a5"
      },
      "execution_count": 26,
      "outputs": [
        {
          "output_type": "execute_result",
          "data": {
            "text/plain": [
              "tensor([[1., 1., 1., 1.],\n",
              "        [1., 1., 1., 1.],\n",
              "        [1., 1., 1., 1.]])"
            ]
          },
          "metadata": {},
          "execution_count": 26
        }
      ]
    },
    {
      "cell_type": "markdown",
      "source": [
        "# Creating tensors with arange and like\n",
        "With three args, start (inclusive), end (exclusive), and step\n",
        "\n",
        "The _like method create tensors with same shapes"
      ],
      "metadata": {
        "id": "VrISz1BlE5LY"
      }
    },
    {
      "cell_type": "code",
      "source": [
        "torch.arange(1, 10)"
      ],
      "metadata": {
        "colab": {
          "base_uri": "https://localhost:8080/"
        },
        "id": "6yr5KNXrE_jR",
        "outputId": "6943dcf1-ec28-4d1d-c653-467dd52a2b2c"
      },
      "execution_count": 27,
      "outputs": [
        {
          "output_type": "execute_result",
          "data": {
            "text/plain": [
              "tensor([1, 2, 3, 4, 5, 6, 7, 8, 9])"
            ]
          },
          "metadata": {},
          "execution_count": 27
        }
      ]
    },
    {
      "cell_type": "code",
      "source": [
        "torch.arange(start=0, end=1000, step=77)"
      ],
      "metadata": {
        "colab": {
          "base_uri": "https://localhost:8080/"
        },
        "id": "RbBDmgsnFDMo",
        "outputId": "064263e3-bc28-468f-acff-27c0c3bea371"
      },
      "execution_count": 28,
      "outputs": [
        {
          "output_type": "execute_result",
          "data": {
            "text/plain": [
              "tensor([  0,  77, 154, 231, 308, 385, 462, 539, 616, 693, 770, 847, 924])"
            ]
          },
          "metadata": {},
          "execution_count": 28
        }
      ]
    },
    {
      "cell_type": "code",
      "source": [
        "torch.arange(1, 11, 2)"
      ],
      "metadata": {
        "colab": {
          "base_uri": "https://localhost:8080/"
        },
        "id": "a8OLHkcgFPLk",
        "outputId": "98e9d12e-469c-493b-b412-1302f8a28442"
      },
      "execution_count": 29,
      "outputs": [
        {
          "output_type": "execute_result",
          "data": {
            "text/plain": [
              "tensor([1, 3, 5, 7, 9])"
            ]
          },
          "metadata": {},
          "execution_count": 29
        }
      ]
    },
    {
      "cell_type": "code",
      "source": [
        "ten_zeros = torch.zeros_like(input=torch.arange(0, 10))\n",
        "ten_zeros"
      ],
      "metadata": {
        "colab": {
          "base_uri": "https://localhost:8080/"
        },
        "id": "BI7FwsvlGIGb",
        "outputId": "a671228b-a13f-44f1-9ecf-7968b0b9b910"
      },
      "execution_count": 30,
      "outputs": [
        {
          "output_type": "execute_result",
          "data": {
            "text/plain": [
              "tensor([0, 0, 0, 0, 0, 0, 0, 0, 0, 0])"
            ]
          },
          "metadata": {},
          "execution_count": 30
        }
      ]
    },
    {
      "cell_type": "code",
      "source": [],
      "metadata": {
        "id": "YuwiGeHN8k1c"
      },
      "execution_count": 30,
      "outputs": []
    },
    {
      "cell_type": "markdown",
      "source": [
        "### Tensor datatypes\n",
        "** Notes: ** Tensor datatype is one of the 3 big errors you'll run into with PyTorch and Deep Learning:\n",
        "1. Tensor not the right datatype\n",
        "2. Tensor not the right shape\n",
        "3. Tensor not on the right device"
      ],
      "metadata": {
        "id": "ophSgx7WxExf"
      }
    },
    {
      "cell_type": "code",
      "source": [
        "device = torch.device('cuda' if torch.cuda.is_available() else 'cpu')\n",
        "device"
      ],
      "metadata": {
        "colab": {
          "base_uri": "https://localhost:8080/"
        },
        "id": "C6Axwgk-w30T",
        "outputId": "ca3cba02-0018-467c-f65d-29ac80b8ce95"
      },
      "execution_count": 31,
      "outputs": [
        {
          "output_type": "execute_result",
          "data": {
            "text/plain": [
              "device(type='cuda')"
            ]
          },
          "metadata": {},
          "execution_count": 31
        }
      ]
    },
    {
      "cell_type": "code",
      "source": [
        "float_32_tensor = torch.tensor([3.0, 6.0, 9.0],\n",
        "                               dtype=None, # data types, float32 or float16, etc\n",
        "                               device=device, # what device is the tensor on, cpu or cuda\n",
        "                               requires_grad=False # should track gradients\n",
        "                               )\n",
        "float_32_tensor"
      ],
      "metadata": {
        "colab": {
          "base_uri": "https://localhost:8080/"
        },
        "id": "lZpqNCoPxMzJ",
        "outputId": "11ea98e0-2bb3-4ea6-85c4-850e314d3c42"
      },
      "execution_count": 32,
      "outputs": [
        {
          "output_type": "execute_result",
          "data": {
            "text/plain": [
              "tensor([3., 6., 9.], device='cuda:0')"
            ]
          },
          "metadata": {},
          "execution_count": 32
        }
      ]
    },
    {
      "cell_type": "code",
      "source": [
        "# dtype of a tensor is default to float32, even if we specified it to None\n",
        "float_32_tensor.dtype"
      ],
      "metadata": {
        "colab": {
          "base_uri": "https://localhost:8080/"
        },
        "id": "Lr3_ukNIxmwE",
        "outputId": "503b2f81-6aa3-44e3-ceee-e930c2cb8672"
      },
      "execution_count": 33,
      "outputs": [
        {
          "output_type": "execute_result",
          "data": {
            "text/plain": [
              "torch.float32"
            ]
          },
          "metadata": {},
          "execution_count": 33
        }
      ]
    },
    {
      "cell_type": "code",
      "source": [
        "float_16_tensor = float_32_tensor.type(torch.half)\n",
        "# half is same as float16, and float_16 apparently takes other attributes like device from float_32\n",
        "float_16_tensor, float_16_tensor.device, float_16_tensor.dtype"
      ],
      "metadata": {
        "colab": {
          "base_uri": "https://localhost:8080/"
        },
        "id": "pldudXIK1qQi",
        "outputId": "ed60f633-143f-4241-b4ad-6c21092777bd"
      },
      "execution_count": 34,
      "outputs": [
        {
          "output_type": "execute_result",
          "data": {
            "text/plain": [
              "(tensor([3., 6., 9.], device='cuda:0', dtype=torch.float16),\n",
              " device(type='cuda', index=0),\n",
              " torch.float16)"
            ]
          },
          "metadata": {},
          "execution_count": 34
        }
      ]
    },
    {
      "cell_type": "code",
      "source": [
        "float_16_tensor * float_32_tensor"
      ],
      "metadata": {
        "colab": {
          "base_uri": "https://localhost:8080/"
        },
        "id": "Q_8K7E_o2Rl3",
        "outputId": "5394237f-b73e-4b64-9acf-b5a53a9c616b"
      },
      "execution_count": 35,
      "outputs": [
        {
          "output_type": "execute_result",
          "data": {
            "text/plain": [
              "tensor([ 9., 36., 81.], device='cuda:0')"
            ]
          },
          "metadata": {},
          "execution_count": 35
        }
      ]
    },
    {
      "cell_type": "markdown",
      "source": [
        "### Getting information from tensors\n",
        "* `shape` what shape is the tensor (some operations require specific shape rule)\n",
        "* `dtype` what data type are stored in the tensor\n",
        "* `device` what device the tensor is on (usually GPU or CPU)\n"
      ],
      "metadata": {
        "id": "wkVHDe_A8JFp"
      }
    },
    {
      "cell_type": "code",
      "source": [
        "# create a tensor\n",
        "some_tensor = torch.rand(3, 4)\n",
        "\n",
        "# find some details\n",
        "print(some_tensor)\n",
        "print(f\"Datatype of tensor: {some_tensor.dtype}\")\n",
        "print(f\"Shape of tensor: {some_tensor.shape}\")\n",
        "print(f\"Device tensor is on: {some_tensor.device}\")"
      ],
      "metadata": {
        "colab": {
          "base_uri": "https://localhost:8080/"
        },
        "id": "L1fqW-nb94V-",
        "outputId": "9714e0d2-6a54-4b44-c1d0-7e70d64e20f2"
      },
      "execution_count": 36,
      "outputs": [
        {
          "output_type": "stream",
          "name": "stdout",
          "text": [
            "tensor([[0.2780, 0.6474, 0.0336, 0.2397],\n",
            "        [0.1479, 0.4736, 0.8169, 0.9709],\n",
            "        [0.0139, 0.2512, 0.7638, 0.6693]])\n",
            "Datatype of tensor: torch.float32\n",
            "Shape of tensor: torch.Size([3, 4])\n",
            "Device tensor is on: cpu\n"
          ]
        }
      ]
    },
    {
      "cell_type": "markdown",
      "source": [
        "### Manipulating tensors (tensor operations)\n",
        "* Addition\n",
        "* Substraction\n",
        "* Multiplication\n",
        "* Division\n",
        "* Matrix multiplication"
      ],
      "metadata": {
        "id": "pOzw5x_--D4C"
      }
    },
    {
      "cell_type": "code",
      "source": [
        "# create tensor and add numbers to elements\n",
        "tensor = torch.tensor([1,2,3])\n",
        "tensor"
      ],
      "metadata": {
        "colab": {
          "base_uri": "https://localhost:8080/"
        },
        "id": "DLghE9ic-PP7",
        "outputId": "2d95ba6b-4ec0-461b-9098-6491816dfb35"
      },
      "execution_count": 37,
      "outputs": [
        {
          "output_type": "execute_result",
          "data": {
            "text/plain": [
              "tensor([1, 2, 3])"
            ]
          },
          "metadata": {},
          "execution_count": 37
        }
      ]
    },
    {
      "cell_type": "code",
      "source": [
        "tensor + 10"
      ],
      "metadata": {
        "colab": {
          "base_uri": "https://localhost:8080/"
        },
        "id": "BBZ0eHhw-XRA",
        "outputId": "3cfa7605-67a7-42d7-d588-005e7a427d3a"
      },
      "execution_count": 38,
      "outputs": [
        {
          "output_type": "execute_result",
          "data": {
            "text/plain": [
              "tensor([11, 12, 13])"
            ]
          },
          "metadata": {},
          "execution_count": 38
        }
      ]
    },
    {
      "cell_type": "code",
      "source": [
        "# multiply elements\n",
        "tensor * 10"
      ],
      "metadata": {
        "colab": {
          "base_uri": "https://localhost:8080/"
        },
        "id": "Ud_U5fZ5-Ypt",
        "outputId": "3de77536-f188-4a18-b3e8-792f57d33836"
      },
      "execution_count": 39,
      "outputs": [
        {
          "output_type": "execute_result",
          "data": {
            "text/plain": [
              "tensor([10, 20, 30])"
            ]
          },
          "metadata": {},
          "execution_count": 39
        }
      ]
    },
    {
      "cell_type": "code",
      "source": [
        "# tensor doesn't change unless reassigned\n",
        "tensor"
      ],
      "metadata": {
        "colab": {
          "base_uri": "https://localhost:8080/"
        },
        "id": "e60lW1MH-ekn",
        "outputId": "27e9f2c0-b17f-4911-9382-4ccf5ca2e71b"
      },
      "execution_count": 40,
      "outputs": [
        {
          "output_type": "execute_result",
          "data": {
            "text/plain": [
              "tensor([1, 2, 3])"
            ]
          },
          "metadata": {},
          "execution_count": 40
        }
      ]
    },
    {
      "cell_type": "markdown",
      "source": [
        "### Matrix multiplication (is all you need)\n",
        "The most common operation in neural net and deep learning is `matrix multiplication`, aka matmul in PyTorch.\n",
        "\n",
        "The two rules for mat mul is:\n",
        "1) The **inner dimensions** must match\n",
        "2) The resulting matrix has the **outer dimensions**"
      ],
      "metadata": {
        "id": "Ud71kaP5-k8m"
      }
    },
    {
      "cell_type": "code",
      "source": [
        "# element wise multi\n",
        "print(tensor, \"*\", tensor)\n",
        "print(f\"Equals: {tensor * tensor}\")\n"
      ],
      "metadata": {
        "colab": {
          "base_uri": "https://localhost:8080/"
        },
        "id": "RyZ7CQ5V_LK_",
        "outputId": "beaa9382-aece-455e-c5c1-90fec82e0ca5"
      },
      "execution_count": 41,
      "outputs": [
        {
          "output_type": "stream",
          "name": "stdout",
          "text": [
            "tensor([1, 2, 3]) * tensor([1, 2, 3])\n",
            "Equals: tensor([1, 4, 9])\n"
          ]
        }
      ]
    },
    {
      "cell_type": "code",
      "source": [
        "# matrix multiplication\n",
        "torch.matmul(tensor, tensor)"
      ],
      "metadata": {
        "colab": {
          "base_uri": "https://localhost:8080/"
        },
        "id": "59r9REPyjJIe",
        "outputId": "f86d59c7-2cbf-4439-fe42-1988ee2ecea9"
      },
      "execution_count": 42,
      "outputs": [
        {
          "output_type": "execute_result",
          "data": {
            "text/plain": [
              "tensor(14)"
            ]
          },
          "metadata": {},
          "execution_count": 42
        }
      ]
    },
    {
      "cell_type": "code",
      "source": [
        "# the at @ symbol is an operator for matmul\n",
        "tensor @ tensor"
      ],
      "metadata": {
        "colab": {
          "base_uri": "https://localhost:8080/"
        },
        "id": "C9qjIWZtmDSk",
        "outputId": "ed20ab96-ffca-4be6-b3d2-62cf707736b1"
      },
      "execution_count": 43,
      "outputs": [
        {
          "output_type": "execute_result",
          "data": {
            "text/plain": [
              "tensor(14)"
            ]
          },
          "metadata": {},
          "execution_count": 43
        }
      ]
    },
    {
      "cell_type": "code",
      "source": [
        "# so is torch.mm\n",
        "# BUT torch.mm only works with matrix, not vector or tensor\n",
        "\n",
        "# torch.mm(tensor, tensor)\n"
      ],
      "metadata": {
        "id": "KYJvbtX7m03G"
      },
      "execution_count": 44,
      "outputs": []
    },
    {
      "cell_type": "code",
      "source": [
        "%%time\n",
        "\n",
        "# mat mul with loops\n",
        "value = 0\n",
        "for i in range(len(tensor)):\n",
        "  value += tensor[i] * tensor[i]\n",
        "print(value)"
      ],
      "metadata": {
        "colab": {
          "base_uri": "https://localhost:8080/"
        },
        "id": "E1hLHUIDjV0x",
        "outputId": "ca466288-163f-4e1e-ea05-28c0a722b15f"
      },
      "execution_count": 45,
      "outputs": [
        {
          "output_type": "stream",
          "name": "stdout",
          "text": [
            "tensor(14)\n",
            "CPU times: user 1.4 ms, sys: 0 ns, total: 1.4 ms\n",
            "Wall time: 6.9 ms\n"
          ]
        }
      ]
    },
    {
      "cell_type": "code",
      "source": [
        "%%time\n",
        "\n",
        "# mat mul with torch method, which is faster by 3 order of magnitude\n",
        "torch.matmul(tensor, tensor)"
      ],
      "metadata": {
        "colab": {
          "base_uri": "https://localhost:8080/"
        },
        "id": "xHSIeurCjmuz",
        "outputId": "51e493da-b810-4776-e4f8-84e6df2a0604"
      },
      "execution_count": 46,
      "outputs": [
        {
          "output_type": "stream",
          "name": "stdout",
          "text": [
            "CPU times: user 42 µs, sys: 10 µs, total: 52 µs\n",
            "Wall time: 54.6 µs\n"
          ]
        },
        {
          "output_type": "execute_result",
          "data": {
            "text/plain": [
              "tensor(14)"
            ]
          },
          "metadata": {},
          "execution_count": 46
        }
      ]
    },
    {
      "cell_type": "markdown",
      "source": [
        "### The most common in deep learning: shape errors   \n",
        "To fix tensor shape issue, we can manipulate the shape of tensor using transpose\n"
      ],
      "metadata": {
        "id": "B-xNw0nDjyoU"
      }
    },
    {
      "cell_type": "code",
      "source": [
        "# create two tensor\n",
        "tensor_A = torch.tensor([[1, 2],\n",
        "                         [3, 4],\n",
        "                         [5, 6]])\n",
        "tensor_B = torch.tensor([[7, 10],\n",
        "                         [8, 11],\n",
        "                         [9, 12]])\n",
        "\n",
        "tensor_A.shape, tensor_B.shape"
      ],
      "metadata": {
        "colab": {
          "base_uri": "https://localhost:8080/"
        },
        "id": "xXovf75LqJoR",
        "outputId": "60a056de-6ce5-4073-b9a5-b9f1025e8bc7"
      },
      "execution_count": 47,
      "outputs": [
        {
          "output_type": "execute_result",
          "data": {
            "text/plain": [
              "(torch.Size([3, 2]), torch.Size([3, 2]))"
            ]
          },
          "metadata": {},
          "execution_count": 47
        }
      ]
    },
    {
      "cell_type": "code",
      "source": [
        "# use T, or transpose\n",
        "tensor_B.T, tensor_B.T.shape"
      ],
      "metadata": {
        "colab": {
          "base_uri": "https://localhost:8080/"
        },
        "id": "rfVLModZqT5i",
        "outputId": "4db01c73-3c18-405d-ae80-be997afab5d0"
      },
      "execution_count": 48,
      "outputs": [
        {
          "output_type": "execute_result",
          "data": {
            "text/plain": [
              "(tensor([[ 7,  8,  9],\n",
              "         [10, 11, 12]]),\n",
              " torch.Size([2, 3]))"
            ]
          },
          "metadata": {},
          "execution_count": 48
        }
      ]
    },
    {
      "cell_type": "code",
      "source": [
        "# with b transposed, now the rule for mat mul is met\n",
        "torch.matmul(tensor_A, tensor_B.T)\n"
      ],
      "metadata": {
        "colab": {
          "base_uri": "https://localhost:8080/"
        },
        "id": "sFaWkrtqrwFI",
        "outputId": "7cdee3bd-5cba-4d8c-d0ce-e540e90b38d3"
      },
      "execution_count": 49,
      "outputs": [
        {
          "output_type": "execute_result",
          "data": {
            "text/plain": [
              "tensor([[ 27,  30,  33],\n",
              "        [ 61,  68,  75],\n",
              "        [ 95, 106, 117]])"
            ]
          },
          "metadata": {},
          "execution_count": 49
        }
      ]
    },
    {
      "cell_type": "markdown",
      "source": [
        "### Finding the min, max, mean, sum and other tensor aggregation."
      ],
      "metadata": {
        "id": "k_x1waHztRMC"
      }
    },
    {
      "cell_type": "code",
      "source": [
        "# create a tensor\n",
        "x = torch.arange(0, 100, 10)\n",
        "x"
      ],
      "metadata": {
        "id": "moS5fM6WtXNf",
        "outputId": "9082fabc-aa12-4cae-9e5f-52bf1d67197b",
        "colab": {
          "base_uri": "https://localhost:8080/"
        }
      },
      "execution_count": 50,
      "outputs": [
        {
          "output_type": "execute_result",
          "data": {
            "text/plain": [
              "tensor([ 0, 10, 20, 30, 40, 50, 60, 70, 80, 90])"
            ]
          },
          "metadata": {},
          "execution_count": 50
        }
      ]
    },
    {
      "cell_type": "code",
      "source": [
        "# find min\n",
        "torch.min(x), x.min()"
      ],
      "metadata": {
        "id": "l4AtkYDItf63",
        "outputId": "067478a3-a09c-44c4-a7a8-0a129d751cce",
        "colab": {
          "base_uri": "https://localhost:8080/"
        }
      },
      "execution_count": 51,
      "outputs": [
        {
          "output_type": "execute_result",
          "data": {
            "text/plain": [
              "(tensor(0), tensor(0))"
            ]
          },
          "metadata": {},
          "execution_count": 51
        }
      ]
    },
    {
      "cell_type": "code",
      "source": [
        "# find max\n",
        "torch.max(x), x.max()"
      ],
      "metadata": {
        "id": "AkN2iQMYtj0j",
        "outputId": "036c5cc0-bc03-4825-e2f3-3f484445c25b",
        "colab": {
          "base_uri": "https://localhost:8080/"
        }
      },
      "execution_count": 52,
      "outputs": [
        {
          "output_type": "execute_result",
          "data": {
            "text/plain": [
              "(tensor(90), tensor(90))"
            ]
          },
          "metadata": {},
          "execution_count": 52
        }
      ]
    },
    {
      "cell_type": "code",
      "source": [
        "# find avg\n",
        "\n",
        "# watch out for dtype error for the dtype error\n",
        "#torch.mean(x), x.mean()\n"
      ],
      "metadata": {
        "id": "2pkkl2MwtnLe"
      },
      "execution_count": 53,
      "outputs": []
    },
    {
      "cell_type": "code",
      "source": [
        "# Need to specify data type from int/long to some float so we can do mean\n",
        "torch.mean(x.type(torch.float32)), x.type(torch.float32).mean()"
      ],
      "metadata": {
        "id": "uYYyfF6Wt-dB",
        "outputId": "4de5cbe1-83c6-45db-aac4-f46c19c89c84",
        "colab": {
          "base_uri": "https://localhost:8080/"
        }
      },
      "execution_count": 54,
      "outputs": [
        {
          "output_type": "execute_result",
          "data": {
            "text/plain": [
              "(tensor(45.), tensor(45.))"
            ]
          },
          "metadata": {},
          "execution_count": 54
        }
      ]
    },
    {
      "cell_type": "code",
      "source": [
        "# find sum\n",
        "torch.sum(x), x.sum()"
      ],
      "metadata": {
        "id": "o278IsV3up7K",
        "outputId": "25946773-03b5-4366-b793-56b1a7792cbd",
        "colab": {
          "base_uri": "https://localhost:8080/"
        }
      },
      "execution_count": 55,
      "outputs": [
        {
          "output_type": "execute_result",
          "data": {
            "text/plain": [
              "(tensor(450), tensor(450))"
            ]
          },
          "metadata": {},
          "execution_count": 55
        }
      ]
    },
    {
      "cell_type": "markdown",
      "source": [
        "### Finding position min and max, aka argmin and argmax"
      ],
      "metadata": {
        "id": "s8TYAKaWu3HD"
      }
    },
    {
      "cell_type": "code",
      "source": [
        "x"
      ],
      "metadata": {
        "id": "o1BYhk9hvEEL",
        "outputId": "527112b2-31ea-49c8-b339-040377dec11e",
        "colab": {
          "base_uri": "https://localhost:8080/"
        }
      },
      "execution_count": 56,
      "outputs": [
        {
          "output_type": "execute_result",
          "data": {
            "text/plain": [
              "tensor([ 0, 10, 20, 30, 40, 50, 60, 70, 80, 90])"
            ]
          },
          "metadata": {},
          "execution_count": 56
        }
      ]
    },
    {
      "cell_type": "code",
      "source": [
        "# argmin\n",
        "torch.argmin(x), x.argmin()"
      ],
      "metadata": {
        "id": "Vyzq6i7jvFNi",
        "outputId": "85c0de43-04e6-450d-e451-c4cf8f9c0b4f",
        "colab": {
          "base_uri": "https://localhost:8080/"
        }
      },
      "execution_count": 57,
      "outputs": [
        {
          "output_type": "execute_result",
          "data": {
            "text/plain": [
              "(tensor(0), tensor(0))"
            ]
          },
          "metadata": {},
          "execution_count": 57
        }
      ]
    },
    {
      "cell_type": "code",
      "source": [
        "# argmax\n",
        "torch.argmax(x), x.argmax()"
      ],
      "metadata": {
        "id": "BTrEKyOhvJu7",
        "outputId": "12e3995c-9073-487e-ee5d-2167c78ff1e4",
        "colab": {
          "base_uri": "https://localhost:8080/"
        }
      },
      "execution_count": 58,
      "outputs": [
        {
          "output_type": "execute_result",
          "data": {
            "text/plain": [
              "(tensor(9), tensor(9))"
            ]
          },
          "metadata": {},
          "execution_count": 58
        }
      ]
    },
    {
      "cell_type": "code",
      "source": [
        "x[x.argmax()]"
      ],
      "metadata": {
        "id": "waYpl4gvvV7V",
        "outputId": "01b90241-4a59-4939-8813-15771bdef410",
        "colab": {
          "base_uri": "https://localhost:8080/"
        }
      },
      "execution_count": 59,
      "outputs": [
        {
          "output_type": "execute_result",
          "data": {
            "text/plain": [
              "tensor(90)"
            ]
          },
          "metadata": {},
          "execution_count": 59
        }
      ]
    },
    {
      "cell_type": "markdown",
      "source": [
        "### Reshaping, stacking, squeezing and unsqueezing\n",
        "\n",
        "* **Reshaping** - change shape of input tensor to a defined shape. _Total element counts need to be the same before and after._\n",
        "* **View** - Return a view of an input tensor of certain shape but keep the same memory as original tensor\n",
        "* **Stacking** - combine multiple tensors on top of each other `vstack` or side by side `hstack`\n",
        "* **Squeeze** - removes all `1` dimensions from a tensor\n",
        "* **Unsqueeze** - add a `1` dimension to a tensor\n",
        "* **Permute** - return a *view* of input with dimension order swapped in certain way"
      ],
      "metadata": {
        "id": "HYjPHej0xmfz"
      }
    },
    {
      "cell_type": "code",
      "source": [
        "# create a tensor\n",
        "x = torch.arange(1., 10.)\n",
        "x, x.shape"
      ],
      "metadata": {
        "colab": {
          "base_uri": "https://localhost:8080/"
        },
        "id": "gTn_tKSbyd6K",
        "outputId": "68bb94a5-e730-4e3f-e1b5-675f0fc572f2"
      },
      "execution_count": 60,
      "outputs": [
        {
          "output_type": "execute_result",
          "data": {
            "text/plain": [
              "(tensor([1., 2., 3., 4., 5., 6., 7., 8., 9.]), torch.Size([9]))"
            ]
          },
          "metadata": {},
          "execution_count": 60
        }
      ]
    },
    {
      "cell_type": "code",
      "source": [
        "# add an extra dimension by reshaping\n",
        "x_reshaped = x.reshape(1, 9)\n",
        "x_reshaped, x_reshaped.shape"
      ],
      "metadata": {
        "colab": {
          "base_uri": "https://localhost:8080/"
        },
        "id": "VzWv0RbgznjQ",
        "outputId": "5a966be9-0b19-45c4-faba-846e44daa000"
      },
      "execution_count": 61,
      "outputs": [
        {
          "output_type": "execute_result",
          "data": {
            "text/plain": [
              "(tensor([[1., 2., 3., 4., 5., 6., 7., 8., 9.]]), torch.Size([1, 9]))"
            ]
          },
          "metadata": {},
          "execution_count": 61
        }
      ]
    },
    {
      "cell_type": "code",
      "source": [
        "x_reshaped = x.reshape(9, 1)\n",
        "x_reshaped, x_reshaped.shape"
      ],
      "metadata": {
        "colab": {
          "base_uri": "https://localhost:8080/"
        },
        "id": "sGpwLXpg0Xih",
        "outputId": "64d746bb-11da-40ac-af97-dcb88c6564a1"
      },
      "execution_count": 62,
      "outputs": [
        {
          "output_type": "execute_result",
          "data": {
            "text/plain": [
              "(tensor([[1.],\n",
              "         [2.],\n",
              "         [3.],\n",
              "         [4.],\n",
              "         [5.],\n",
              "         [6.],\n",
              "         [7.],\n",
              "         [8.],\n",
              "         [9.]]),\n",
              " torch.Size([9, 1]))"
            ]
          },
          "metadata": {},
          "execution_count": 62
        }
      ]
    },
    {
      "cell_type": "code",
      "source": [
        "x_reshaped = x.reshape(1, 9)"
      ],
      "metadata": {
        "id": "rKFOiWd-4dJF"
      },
      "execution_count": 63,
      "outputs": []
    },
    {
      "cell_type": "code",
      "source": [
        "# change the view\n",
        "z = x.view(1, 9)\n",
        "z, z.shape"
      ],
      "metadata": {
        "colab": {
          "base_uri": "https://localhost:8080/"
        },
        "id": "51lOPqge0u11",
        "outputId": "802c38d1-89f4-405f-eb28-0fe82090bb2f"
      },
      "execution_count": 64,
      "outputs": [
        {
          "output_type": "execute_result",
          "data": {
            "text/plain": [
              "(tensor([[1., 2., 3., 4., 5., 6., 7., 8., 9.]]), torch.Size([1, 9]))"
            ]
          },
          "metadata": {},
          "execution_count": 64
        }
      ]
    },
    {
      "cell_type": "code",
      "source": [
        "# A view shares the same memory with the original input\n",
        "z[:, 0] = 5\n",
        "z, x"
      ],
      "metadata": {
        "colab": {
          "base_uri": "https://localhost:8080/"
        },
        "id": "B6Q6uF9l02Vg",
        "outputId": "1a8603aa-dc92-4570-de80-1692b06c6567"
      },
      "execution_count": 65,
      "outputs": [
        {
          "output_type": "execute_result",
          "data": {
            "text/plain": [
              "(tensor([[5., 2., 3., 4., 5., 6., 7., 8., 9.]]),\n",
              " tensor([5., 2., 3., 4., 5., 6., 7., 8., 9.]))"
            ]
          },
          "metadata": {},
          "execution_count": 65
        }
      ]
    },
    {
      "cell_type": "code",
      "source": [
        "# stack on top of each other, based on different dimension\n",
        "x_stacked = torch.stack([x, x, x, x], dim=0)\n",
        "x_stacked\n"
      ],
      "metadata": {
        "colab": {
          "base_uri": "https://localhost:8080/"
        },
        "id": "2klGMwj10-kP",
        "outputId": "5b5dfcf6-8db7-463c-da5a-75fb11d4dadf"
      },
      "execution_count": 66,
      "outputs": [
        {
          "output_type": "execute_result",
          "data": {
            "text/plain": [
              "tensor([[5., 2., 3., 4., 5., 6., 7., 8., 9.],\n",
              "        [5., 2., 3., 4., 5., 6., 7., 8., 9.],\n",
              "        [5., 2., 3., 4., 5., 6., 7., 8., 9.],\n",
              "        [5., 2., 3., 4., 5., 6., 7., 8., 9.]])"
            ]
          },
          "metadata": {},
          "execution_count": 66
        }
      ]
    },
    {
      "cell_type": "code",
      "source": [
        "x_stacked = torch.stack([x, x, x, x], dim=1)\n",
        "x_stacked"
      ],
      "metadata": {
        "colab": {
          "base_uri": "https://localhost:8080/"
        },
        "id": "KZWMdnjz1UwF",
        "outputId": "eefc7ac4-c59e-45ba-dd86-f77d9961d2d9"
      },
      "execution_count": 67,
      "outputs": [
        {
          "output_type": "execute_result",
          "data": {
            "text/plain": [
              "tensor([[5., 5., 5., 5.],\n",
              "        [2., 2., 2., 2.],\n",
              "        [3., 3., 3., 3.],\n",
              "        [4., 4., 4., 4.],\n",
              "        [5., 5., 5., 5.],\n",
              "        [6., 6., 6., 6.],\n",
              "        [7., 7., 7., 7.],\n",
              "        [8., 8., 8., 8.],\n",
              "        [9., 9., 9., 9.]])"
            ]
          },
          "metadata": {},
          "execution_count": 67
        }
      ]
    },
    {
      "cell_type": "code",
      "source": [
        "# Squeeze and unsqueeze\n",
        "x = torch.zeros(2, 1, 2, 1, 2)\n",
        "x.size()"
      ],
      "metadata": {
        "colab": {
          "base_uri": "https://localhost:8080/"
        },
        "id": "q26fqojf1qGk",
        "outputId": "00b2334b-67e7-4ad8-ea27-1eda1a1e697f"
      },
      "execution_count": 68,
      "outputs": [
        {
          "output_type": "execute_result",
          "data": {
            "text/plain": [
              "torch.Size([2, 1, 2, 1, 2])"
            ]
          },
          "metadata": {},
          "execution_count": 68
        }
      ]
    },
    {
      "cell_type": "code",
      "source": [
        "y = torch.squeeze(x)\n",
        "y.size()"
      ],
      "metadata": {
        "colab": {
          "base_uri": "https://localhost:8080/"
        },
        "id": "wcdDqv_x2Ack",
        "outputId": "fdeb3bd7-9f05-4032-b84d-282e1e58f133"
      },
      "execution_count": 69,
      "outputs": [
        {
          "output_type": "execute_result",
          "data": {
            "text/plain": [
              "torch.Size([2, 2, 2])"
            ]
          },
          "metadata": {},
          "execution_count": 69
        }
      ]
    },
    {
      "cell_type": "code",
      "source": [
        "y = torch.squeeze(x, 0)\n",
        "y.size()"
      ],
      "metadata": {
        "colab": {
          "base_uri": "https://localhost:8080/"
        },
        "id": "ykrf1mS02De0",
        "outputId": "550aaa28-c7ab-4b1f-caa1-2954f412ce5f"
      },
      "execution_count": 70,
      "outputs": [
        {
          "output_type": "execute_result",
          "data": {
            "text/plain": [
              "torch.Size([2, 1, 2, 1, 2])"
            ]
          },
          "metadata": {},
          "execution_count": 70
        }
      ]
    },
    {
      "cell_type": "code",
      "source": [
        "x_reshaped.shape"
      ],
      "metadata": {
        "colab": {
          "base_uri": "https://localhost:8080/"
        },
        "id": "phxrV94p2sQs",
        "outputId": "b85303b8-4867-417e-fb13-57678682735a"
      },
      "execution_count": 71,
      "outputs": [
        {
          "output_type": "execute_result",
          "data": {
            "text/plain": [
              "torch.Size([1, 9])"
            ]
          },
          "metadata": {},
          "execution_count": 71
        }
      ]
    },
    {
      "cell_type": "code",
      "source": [
        "x_reshaped.squeeze().shape"
      ],
      "metadata": {
        "colab": {
          "base_uri": "https://localhost:8080/"
        },
        "id": "vhIdVuqP2xex",
        "outputId": "543b3750-5ee1-4492-cc30-0d2532955224"
      },
      "execution_count": 72,
      "outputs": [
        {
          "output_type": "execute_result",
          "data": {
            "text/plain": [
              "torch.Size([9])"
            ]
          },
          "metadata": {},
          "execution_count": 72
        }
      ]
    },
    {
      "cell_type": "code",
      "source": [
        "# torch.unsqueeze() - adds a single dimension to a target tensor a specific dime\n",
        "print(f\"Prior target: {x_reshaped}\")\n",
        "print(f\"Prior to unsqueeze: {x_reshaped.shape}\")\n",
        "\n",
        "# add extra dimension\n",
        "x_unsqueezed = x_reshaped.unsqueeze(dim=1)\n",
        "print(f\"After unsqueeze: {x_unsqueezed}\")\n",
        "print(f\"After unsqueeze: {x_unsqueezed.shape}\")\n"
      ],
      "metadata": {
        "colab": {
          "base_uri": "https://localhost:8080/"
        },
        "id": "ctUB_EZK23NN",
        "outputId": "529a544e-deb5-4a0b-b07b-d1833a2278e1"
      },
      "execution_count": 73,
      "outputs": [
        {
          "output_type": "stream",
          "name": "stdout",
          "text": [
            "Prior target: tensor([[5., 2., 3., 4., 5., 6., 7., 8., 9.]])\n",
            "Prior to unsqueeze: torch.Size([1, 9])\n",
            "After unsqueeze: tensor([[[5., 2., 3., 4., 5., 6., 7., 8., 9.]]])\n",
            "After unsqueeze: torch.Size([1, 1, 9])\n"
          ]
        }
      ]
    },
    {
      "cell_type": "code",
      "source": [
        "x_unsqueezed = x_reshaped.unsqueeze(dim=0)\n",
        "print(f\"After unsqueeze: {x_unsqueezed}\")\n",
        "print(f\"After unsqueeze: {x_unsqueezed.shape}\")\n"
      ],
      "metadata": {
        "colab": {
          "base_uri": "https://localhost:8080/"
        },
        "id": "IC7VnVGF45FC",
        "outputId": "d43fadee-eeda-48bc-ad89-2b414dba7ada"
      },
      "execution_count": 74,
      "outputs": [
        {
          "output_type": "stream",
          "name": "stdout",
          "text": [
            "After unsqueeze: tensor([[[5., 2., 3., 4., 5., 6., 7., 8., 9.]]])\n",
            "After unsqueeze: torch.Size([1, 1, 9])\n"
          ]
        }
      ]
    },
    {
      "cell_type": "code",
      "source": [
        "# Permute, rearrange dimension based on their dim order\n",
        "# commonly seen when handling images\n",
        "\n",
        "x_original = torch.rand(size=(224, 224, 3)) # (height, width, color channel)\n",
        "\n",
        "# permute to get (color channel, height, width)\n",
        "x_permuted = x_original.permute(2, 0, 1) # shift axis 0->1, 1->2, 2->0\n",
        "x_permuted.shape\n"
      ],
      "metadata": {
        "colab": {
          "base_uri": "https://localhost:8080/"
        },
        "id": "0kq9-QRE5K7Z",
        "outputId": "944874b3-5d9a-480c-9a80-9201302cc96f"
      },
      "execution_count": 75,
      "outputs": [
        {
          "output_type": "execute_result",
          "data": {
            "text/plain": [
              "torch.Size([3, 224, 224])"
            ]
          },
          "metadata": {},
          "execution_count": 75
        }
      ]
    },
    {
      "cell_type": "markdown",
      "source": [
        "## Indexing\n",
        "\n",
        "Indexing with PyTorch is similar to NumPy"
      ],
      "metadata": {
        "id": "I0dANOas7Rvo"
      }
    },
    {
      "cell_type": "code",
      "source": [
        "# create a tensor\n",
        "x = torch.arange(1, 10).reshape(1, 3, 3)\n",
        "x, x.shape"
      ],
      "metadata": {
        "id": "4FvWC_ke7gA6",
        "outputId": "93404653-c44e-4819-bafb-c094db6665ba",
        "colab": {
          "base_uri": "https://localhost:8080/"
        }
      },
      "execution_count": 76,
      "outputs": [
        {
          "output_type": "execute_result",
          "data": {
            "text/plain": [
              "(tensor([[[1, 2, 3],\n",
              "          [4, 5, 6],\n",
              "          [7, 8, 9]]]),\n",
              " torch.Size([1, 3, 3]))"
            ]
          },
          "metadata": {},
          "execution_count": 76
        }
      ]
    },
    {
      "cell_type": "code",
      "source": [
        "\n",
        "x[0]"
      ],
      "metadata": {
        "id": "ZNjaGxPE7tR-",
        "outputId": "838d6e66-ca58-48c0-c5d3-aeb6b87e3847",
        "colab": {
          "base_uri": "https://localhost:8080/"
        }
      },
      "execution_count": 77,
      "outputs": [
        {
          "output_type": "execute_result",
          "data": {
            "text/plain": [
              "tensor([[1, 2, 3],\n",
              "        [4, 5, 6],\n",
              "        [7, 8, 9]])"
            ]
          },
          "metadata": {},
          "execution_count": 77
        }
      ]
    },
    {
      "cell_type": "code",
      "source": [
        "x[0][0]"
      ],
      "metadata": {
        "id": "0_nxVsIy7wU3",
        "outputId": "6398c0a6-b1e7-45e3-a9dc-c6233df24ce0",
        "colab": {
          "base_uri": "https://localhost:8080/"
        }
      },
      "execution_count": 78,
      "outputs": [
        {
          "output_type": "execute_result",
          "data": {
            "text/plain": [
              "tensor([1, 2, 3])"
            ]
          },
          "metadata": {},
          "execution_count": 78
        }
      ]
    },
    {
      "cell_type": "code",
      "source": [
        "x[0, 0]"
      ],
      "metadata": {
        "id": "jOnGmhWE7zFo",
        "outputId": "e8bc0d15-a898-4115-a0df-e08fc7595875",
        "colab": {
          "base_uri": "https://localhost:8080/"
        }
      },
      "execution_count": 79,
      "outputs": [
        {
          "output_type": "execute_result",
          "data": {
            "text/plain": [
              "tensor([1, 2, 3])"
            ]
          },
          "metadata": {},
          "execution_count": 79
        }
      ]
    },
    {
      "cell_type": "code",
      "source": [
        "x[0][0][0]"
      ],
      "metadata": {
        "id": "R74xeM3-72wF",
        "outputId": "075479f9-45be-4753-cb57-a2e6dc34f9fb",
        "colab": {
          "base_uri": "https://localhost:8080/"
        }
      },
      "execution_count": 80,
      "outputs": [
        {
          "output_type": "execute_result",
          "data": {
            "text/plain": [
              "tensor(1)"
            ]
          },
          "metadata": {},
          "execution_count": 80
        }
      ]
    },
    {
      "cell_type": "code",
      "source": [
        "# use \":\" to select all of a target dimension\n",
        "x[:, 0]"
      ],
      "metadata": {
        "id": "GwROoLuA8MoJ",
        "outputId": "dc11e4ad-96ef-4ff1-adda-a691ca504541",
        "colab": {
          "base_uri": "https://localhost:8080/"
        }
      },
      "execution_count": 81,
      "outputs": [
        {
          "output_type": "execute_result",
          "data": {
            "text/plain": [
              "tensor([[1, 2, 3]])"
            ]
          },
          "metadata": {},
          "execution_count": 81
        }
      ]
    },
    {
      "cell_type": "code",
      "source": [
        "x[:, :, 0]"
      ],
      "metadata": {
        "id": "RjeCjRb687A4",
        "outputId": "af12e544-61e6-4c15-c4c3-990351f1c2fd",
        "colab": {
          "base_uri": "https://localhost:8080/"
        }
      },
      "execution_count": 82,
      "outputs": [
        {
          "output_type": "execute_result",
          "data": {
            "text/plain": [
              "tensor([[1, 4, 7]])"
            ]
          },
          "metadata": {},
          "execution_count": 82
        }
      ]
    },
    {
      "cell_type": "code",
      "source": [
        "# get all values in 0 dimension but only the 1 index value of 1st and 2nd dimension\n",
        "x[:, 1, 1]\n",
        "# equals to x[0][1][1] or x[0, 1, 1]"
      ],
      "metadata": {
        "id": "1_2sJEaW9LQC",
        "outputId": "3360f9be-d84a-4072-8da8-fa520fa86ac9",
        "colab": {
          "base_uri": "https://localhost:8080/"
        }
      },
      "execution_count": 83,
      "outputs": [
        {
          "output_type": "execute_result",
          "data": {
            "text/plain": [
              "tensor([5])"
            ]
          },
          "metadata": {},
          "execution_count": 83
        }
      ]
    },
    {
      "cell_type": "code",
      "source": [
        "# get index 0 of 0th and 1st dim, and all value of 2nd dim\n",
        "x[0, 0, :]\n",
        "# equals to x[0][0]"
      ],
      "metadata": {
        "id": "99v1Cvqj9gVK",
        "outputId": "ec4fabef-b303-4ad9-b713-b828a2c6c149",
        "colab": {
          "base_uri": "https://localhost:8080/"
        }
      },
      "execution_count": 84,
      "outputs": [
        {
          "output_type": "execute_result",
          "data": {
            "text/plain": [
              "tensor([1, 2, 3])"
            ]
          },
          "metadata": {},
          "execution_count": 84
        }
      ]
    },
    {
      "cell_type": "code",
      "source": [
        "# index to get the value 9\n",
        "x[0, 2, 2]"
      ],
      "metadata": {
        "id": "OEfoEav6-JIG",
        "outputId": "85c116c1-5258-4576-e6c1-4e3ecb60ead4",
        "colab": {
          "base_uri": "https://localhost:8080/"
        }
      },
      "execution_count": 85,
      "outputs": [
        {
          "output_type": "execute_result",
          "data": {
            "text/plain": [
              "tensor(9)"
            ]
          },
          "metadata": {},
          "execution_count": 85
        }
      ]
    },
    {
      "cell_type": "code",
      "source": [
        "# index to get [3, 6, 9]\n",
        "x[0, :, 2]"
      ],
      "metadata": {
        "id": "RpyPcduT-V5N",
        "outputId": "b3dd05ad-19b2-4ee3-f9ac-d1f1d8a9543d",
        "colab": {
          "base_uri": "https://localhost:8080/"
        }
      },
      "execution_count": 86,
      "outputs": [
        {
          "output_type": "execute_result",
          "data": {
            "text/plain": [
              "tensor([3, 6, 9])"
            ]
          },
          "metadata": {},
          "execution_count": 86
        }
      ]
    },
    {
      "cell_type": "code",
      "source": [
        "# Index on x to return 9\n",
        "print(x[0][2][2])\n",
        "\n",
        "print(x[0, 2, 2])\n",
        "\n",
        "# Index on x to return 3, 6, 9\n",
        "print(x[:, :, 2])"
      ],
      "metadata": {
        "id": "CGG9m4uGa1DX",
        "outputId": "2ea622eb-6c07-4632-bc28-e164e827c3e0",
        "colab": {
          "base_uri": "https://localhost:8080/"
        }
      },
      "execution_count": 87,
      "outputs": [
        {
          "output_type": "stream",
          "name": "stdout",
          "text": [
            "tensor(9)\n",
            "tensor(9)\n",
            "tensor([[3, 6, 9]])\n"
          ]
        }
      ]
    },
    {
      "cell_type": "markdown",
      "source": [
        "## PyTorch tensors and Numpy\n",
        "* numpy -> PyTorch : `torch.from_numpy(ndarray)`\n",
        "* PyTorch tensor -> numpy : `torch.Tensor.numpy()`"
      ],
      "metadata": {
        "id": "8BpyeZKNbLZ0"
      }
    },
    {
      "cell_type": "code",
      "source": [
        "# NumPy array to tensor\n",
        "import torch\n",
        "import numpy as np\n",
        "\n",
        "array = np.arange(1.0, 8.0)\n",
        "tensor = torch.from_numpy(array)\n",
        "array, tensor"
      ],
      "metadata": {
        "id": "H9DSXE-ebcd6",
        "outputId": "f18c7163-c787-4dba-bda2-a357cbbfba9d",
        "colab": {
          "base_uri": "https://localhost:8080/"
        }
      },
      "execution_count": 88,
      "outputs": [
        {
          "output_type": "execute_result",
          "data": {
            "text/plain": [
              "(array([1., 2., 3., 4., 5., 6., 7.]),\n",
              " tensor([1., 2., 3., 4., 5., 6., 7.], dtype=torch.float64))"
            ]
          },
          "metadata": {},
          "execution_count": 88
        }
      ]
    },
    {
      "cell_type": "code",
      "source": [
        "# numpy default data type is float 64, where pytorch default is float 32\n",
        "array.dtype, tensor.dtype"
      ],
      "metadata": {
        "id": "qlc7qzoqcCLU",
        "outputId": "4f1c8005-78e2-4708-b2da-d15b5eef0db9",
        "colab": {
          "base_uri": "https://localhost:8080/"
        }
      },
      "execution_count": 89,
      "outputs": [
        {
          "output_type": "execute_result",
          "data": {
            "text/plain": [
              "(dtype('float64'), torch.float64)"
            ]
          },
          "metadata": {},
          "execution_count": 89
        }
      ]
    },
    {
      "cell_type": "code",
      "source": [
        "# we can specify data type in preparation of pytorch tensor use\n",
        "array = np.arange(1.0, 8.0)\n",
        "tensor = torch.from_numpy(array).type(torch.float32)\n",
        "array, tensor\n"
      ],
      "metadata": {
        "id": "NYU3W9JucOSj",
        "outputId": "09c2ca52-1f7c-4d24-d4cd-89d85e567511",
        "colab": {
          "base_uri": "https://localhost:8080/"
        }
      },
      "execution_count": 90,
      "outputs": [
        {
          "output_type": "execute_result",
          "data": {
            "text/plain": [
              "(array([1., 2., 3., 4., 5., 6., 7.]), tensor([1., 2., 3., 4., 5., 6., 7.]))"
            ]
          },
          "metadata": {},
          "execution_count": 90
        }
      ]
    },
    {
      "cell_type": "code",
      "source": [
        "array.dtype, tensor.dtype"
      ],
      "metadata": {
        "id": "BN65GPQ2ccNq",
        "outputId": "cf334f9c-8885-4d20-ab74-da79d25039b0",
        "colab": {
          "base_uri": "https://localhost:8080/"
        }
      },
      "execution_count": 91,
      "outputs": [
        {
          "output_type": "execute_result",
          "data": {
            "text/plain": [
              "(dtype('float64'), torch.float32)"
            ]
          },
          "metadata": {},
          "execution_count": 91
        }
      ]
    },
    {
      "cell_type": "code",
      "source": [
        "# changing the value of array, tensor that was created from it won't be affected\n",
        "array = array + 1\n",
        "array, tensor"
      ],
      "metadata": {
        "id": "CcEYFq1ycr1u",
        "outputId": "2ceb715a-8f61-47ba-c134-b32398d97c9c",
        "colab": {
          "base_uri": "https://localhost:8080/"
        }
      },
      "execution_count": 92,
      "outputs": [
        {
          "output_type": "execute_result",
          "data": {
            "text/plain": [
              "(array([2., 3., 4., 5., 6., 7., 8.]), tensor([1., 2., 3., 4., 5., 6., 7.]))"
            ]
          },
          "metadata": {},
          "execution_count": 92
        }
      ]
    },
    {
      "cell_type": "code",
      "source": [
        "# Tensor to numpy array\n",
        "tensor = torch.ones(7)\n",
        "numpy_tensor = tensor.numpy()\n",
        "\n",
        "# the numpy created from tensor will have tensor data type\n",
        "tensor, numpy_tensor"
      ],
      "metadata": {
        "id": "xSoSFOv2c8RH",
        "outputId": "6aaf6252-dc2b-4c21-9377-c939bb7e49b2",
        "colab": {
          "base_uri": "https://localhost:8080/"
        }
      },
      "execution_count": 93,
      "outputs": [
        {
          "output_type": "execute_result",
          "data": {
            "text/plain": [
              "(tensor([1., 1., 1., 1., 1., 1., 1.]),\n",
              " array([1., 1., 1., 1., 1., 1., 1.], dtype=float32))"
            ]
          },
          "metadata": {},
          "execution_count": 93
        }
      ]
    },
    {
      "cell_type": "code",
      "source": [
        "# Change the tensor, the numpy array created from it won't be affected\n",
        "tensor = tensor + 1\n",
        "tensor, numpy_tensor"
      ],
      "metadata": {
        "id": "0MJ0bxKzdDni",
        "outputId": "92b02b81-1dc5-4a12-9013-f1984ce436bd",
        "colab": {
          "base_uri": "https://localhost:8080/"
        }
      },
      "execution_count": 94,
      "outputs": [
        {
          "output_type": "execute_result",
          "data": {
            "text/plain": [
              "(tensor([2., 2., 2., 2., 2., 2., 2.]),\n",
              " array([1., 1., 1., 1., 1., 1., 1.], dtype=float32))"
            ]
          },
          "metadata": {},
          "execution_count": 94
        }
      ]
    },
    {
      "cell_type": "markdown",
      "source": [
        "## Reproducibility (trying to take random out of random)\n",
        "To reduce randomness in NN and PyTorch comes from **random seed**."
      ],
      "metadata": {
        "id": "lJVeXr5edQRy"
      }
    },
    {
      "cell_type": "code",
      "source": [
        "torch.rand(3, 3)"
      ],
      "metadata": {
        "id": "x2jY_iP_dabs",
        "outputId": "63d39d38-fe66-4821-e725-ce33689f350b",
        "colab": {
          "base_uri": "https://localhost:8080/"
        }
      },
      "execution_count": 95,
      "outputs": [
        {
          "output_type": "execute_result",
          "data": {
            "text/plain": [
              "tensor([[0.2909, 0.8783, 0.0979],\n",
              "        [0.3629, 0.3878, 0.3196],\n",
              "        [0.5949, 0.4060, 0.4517]])"
            ]
          },
          "metadata": {},
          "execution_count": 95
        }
      ]
    },
    {
      "cell_type": "code",
      "source": [
        "import torch\n",
        "\n",
        "# create two random tensors\n",
        "random_tensor_A = torch.rand(3, 4)\n",
        "random_tensor_B = torch.rand(3, 4)\n",
        "\n",
        "print(random_tensor_A)\n",
        "print(random_tensor_B)\n",
        "print(random_tensor_A == random_tensor_B)"
      ],
      "metadata": {
        "id": "DTSWaR9cd7ej",
        "outputId": "d4246bb8-e232-4e8a-bf95-ee3c970fe671",
        "colab": {
          "base_uri": "https://localhost:8080/"
        }
      },
      "execution_count": 96,
      "outputs": [
        {
          "output_type": "stream",
          "name": "stdout",
          "text": [
            "tensor([[0.4867, 0.2292, 0.8789, 0.5767],\n",
            "        [0.6741, 0.8025, 0.7131, 0.5689],\n",
            "        [0.4465, 0.2853, 0.4074, 0.4335]])\n",
            "tensor([[0.3192, 0.1923, 0.9880, 0.7044],\n",
            "        [0.4516, 0.2214, 0.0759, 0.2088],\n",
            "        [0.4098, 0.7389, 0.4125, 0.1323]])\n",
            "tensor([[False, False, False, False],\n",
            "        [False, False, False, False],\n",
            "        [False, False, False, False]])\n"
          ]
        }
      ]
    },
    {
      "cell_type": "code",
      "source": [
        "# Let's make random but reproducible tensors, by setting random seed\n",
        "\n",
        "import torch\n",
        "RANDOM_SEED = 42\n",
        "torch.manual_seed(RANDOM_SEED)\n",
        "random_tensor_C = torch.rand(3, 4)\n",
        "\n",
        "# manual seed needs to be set after a call if you want the next random call to\n",
        "# use the same random init values\n",
        "torch.manual_seed(RANDOM_SEED)\n",
        "random_tensor_D = torch.rand(3, 4)\n",
        "print(random_tensor_C)\n",
        "print(random_tensor_D)\n",
        "print(random_tensor_C == random_tensor_D)"
      ],
      "metadata": {
        "id": "bq5k-qfzeLwA",
        "outputId": "5974257e-1a93-4f50-e015-4a427c17c0c3",
        "colab": {
          "base_uri": "https://localhost:8080/"
        }
      },
      "execution_count": 103,
      "outputs": [
        {
          "output_type": "stream",
          "name": "stdout",
          "text": [
            "tensor([[0.8823, 0.9150, 0.3829, 0.9593],\n",
            "        [0.3904, 0.6009, 0.2566, 0.7936],\n",
            "        [0.9408, 0.1332, 0.9346, 0.5936]])\n",
            "tensor([[0.8823, 0.9150, 0.3829, 0.9593],\n",
            "        [0.3904, 0.6009, 0.2566, 0.7936],\n",
            "        [0.9408, 0.1332, 0.9346, 0.5936]])\n",
            "tensor([[True, True, True, True],\n",
            "        [True, True, True, True],\n",
            "        [True, True, True, True]])\n"
          ]
        }
      ]
    }
  ]
}